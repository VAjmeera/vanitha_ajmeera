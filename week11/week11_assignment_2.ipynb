{
  "cells": [
    {
      "cell_type": "markdown",
      "metadata": {
        "id": "k5R6PjonAGGp"
      },
      "source": [
        "# Week 11 Assignment\n",
        "\n",
        "\n",
        "Please do the programming exercise and verify that your code works using the tests, then think about your final project and fill out the questions in the second part.\n",
        "\n",
        "---\n",
        "---"
      ]
    },
    {
      "cell_type": "markdown",
      "metadata": {
        "id": "-0rufhTkAGGs"
      },
      "source": [
        "### 47.1: Filtering and summarizing data\n",
        "\n",
        "For this work, you'll find a data file in `https://hds5210-data.s3.amazonaws.com/complications_all.csv`.\n",
        "\n",
        "Read in the data file and create a variable called `mo_hospitals` that contains a data frame from the `complications_all.csv` file, filtered down to only contain those hospitals from the state of Missouri (MO).\n",
        "\n",
        "Then aggregate that data by hospital into a variable named `mo_summary`.  There are some key fields that we want to summarize:\n",
        "* We want to know the earliest date that each hospital was participating in any program\n",
        "* We want to know the latest date that each hospital stopped participating in any program\n",
        "* We want to know the total number of patients in the denominators of these programs\n",
        "\n",
        "Some things to note:\n",
        "* You will need to convert the `Start Date` and `End Date` to actual datetime fields\n",
        "* You will need to clean up and convert the `Denominator` field to just be numeric - the rule that you should use it to simply remove any records where the `Denominator` is `'Not Available'`\n",
        "\n",
        "\n",
        "The final result of this step should be a new data frame called `mo_summary` that contains one row for each hospital and contains the min start date, max end date, and total denominator.  Use the names `start_date`, `end_date`, and `number` for those columns in `mo_summary`.\n",
        "\n",
        "\n",
        "You do not need to create your code in the form of a function, just make sure your variable names match what I've described above so the tests work."
      ]
    },
    {
      "cell_type": "code",
      "execution_count": 10,
      "metadata": {
        "id": "22PJNV_sAGGt"
      },
      "outputs": [],
      "source": [
        "import pandas as pd\n",
        "# This is just to show you the name to use for the variable you need to create for this step to pass.\n",
        "all_hospitals = pd.read_csv('https://hds5210-data.s3.amazonaws.com/complications_all.csv')\n",
        "mo_hospitals = all_hospitals.loc[(all_hospitals['State'] =='MO')]\n"
      ]
    },
    {
      "cell_type": "code",
      "execution_count": 11,
      "metadata": {
        "id": "INB1MTSGAGGu",
        "outputId": "2015c3ab-0081-4908-9ca7-feeeaab1bafb",
        "colab": {
          "base_uri": "https://localhost:8080/"
        }
      },
      "outputs": [
        {
          "output_type": "execute_result",
          "data": {
            "text/plain": [
              "array(['MO'], dtype=object)"
            ]
          },
          "metadata": {},
          "execution_count": 11
        }
      ],
      "source": [
        "# Do you work here and in as many cells as you need to create a variable called `mo_summary` that matches the requirements\n",
        "mo_hospitals['State'].unique()"
      ]
    },
    {
      "cell_type": "code",
      "source": [
        "# These assertions will help make sure that you're on the right track.\n",
        "assert(mo_hospitals['State'].unique() == ['MO'])\n",
        "assert(mo_hospitals.shape == (2133,18))"
      ],
      "metadata": {
        "id": "-riHLG2xBKVK"
      },
      "execution_count": 12,
      "outputs": []
    },
    {
      "cell_type": "code",
      "source": [
        "mo_hospitals['Start Date']=pd.to_datetime(mo_hospitals['Start Date'],format=\"%m/%d/%Y\")\n",
        "mo_hospitals['End Date']=pd.to_datetime(mo_hospitals['End Date'],format=\"%m/%d/%Y\")\n",
        "mo_hospitals=mo_hospitals[mo_hospitals['Denominator']!='Not Available']\n",
        "mo_hospitals['Denominator']=mo_hospitals['Denominator'].astype('int')"
      ],
      "metadata": {
        "id": "Enx_UsRlBOSL",
        "outputId": "531c65c4-b2f9-47ee-80cf-ea176d325e96",
        "colab": {
          "base_uri": "https://localhost:8080/"
        }
      },
      "execution_count": 13,
      "outputs": [
        {
          "output_type": "stream",
          "name": "stderr",
          "text": [
            "<ipython-input-13-93dc592c20fe>:1: SettingWithCopyWarning: \n",
            "A value is trying to be set on a copy of a slice from a DataFrame.\n",
            "Try using .loc[row_indexer,col_indexer] = value instead\n",
            "\n",
            "See the caveats in the documentation: https://pandas.pydata.org/pandas-docs/stable/user_guide/indexing.html#returning-a-view-versus-a-copy\n",
            "  mo_hospitals['Start Date']=pd.to_datetime(mo_hospitals['Start Date'],format=\"%m/%d/%Y\")\n",
            "<ipython-input-13-93dc592c20fe>:2: SettingWithCopyWarning: \n",
            "A value is trying to be set on a copy of a slice from a DataFrame.\n",
            "Try using .loc[row_indexer,col_indexer] = value instead\n",
            "\n",
            "See the caveats in the documentation: https://pandas.pydata.org/pandas-docs/stable/user_guide/indexing.html#returning-a-view-versus-a-copy\n",
            "  mo_hospitals['End Date']=pd.to_datetime(mo_hospitals['End Date'],format=\"%m/%d/%Y\")\n"
          ]
        }
      ]
    },
    {
      "cell_type": "code",
      "source": [
        "mo_summary = mo_hospitals.groupby('Facility Name').agg({'Start Date':'min','End Date':'min','Denominator':'sum'})\n",
        "mo_summary.rename(columns={'Start Date':'start_date','End Date':'end_date','Denominator':'number'},inplace=True)"
      ],
      "metadata": {
        "id": "JBXDIX9MBTE5"
      },
      "execution_count": 14,
      "outputs": []
    },
    {
      "cell_type": "code",
      "execution_count": 15,
      "metadata": {
        "id": "HIa5GP7rAGGu"
      },
      "outputs": [],
      "source": [
        "assert(mo_summary['number'].sum() == 1766908)\n",
        "assert(mo_summary['start_date'].min() == pd.Timestamp(2015,4,1))\n",
        "assert(mo_summary['end_date'].max() == pd.Timestamp(2018,6,30))\n",
        "assert(mo_summary.shape == (108,3))\n",
        "assert(mo_summary.loc['BARNES JEWISH HOSPITAL'].number == 131313)\n",
        "assert(mo_summary.loc['BOONE HOSPITAL CENTER'].number == 63099)"
      ]
    },
    {
      "cell_type": "markdown",
      "metadata": {
        "id": "bHX8ymksAGGu"
      },
      "source": [
        "---\n",
        "\n",
        "### 47.2 Planning your final project\n",
        "\n",
        "You should be thinking about the things we've been learning and how you can apply them to your final project.  Use the rubric to help guid your thinking and then answer the questions below.  This is meant as a guide to help you think through what you will do."
      ]
    },
    {
      "cell_type": "markdown",
      "metadata": {
        "id": "qNoGeJrUAGGv"
      },
      "source": [
        "#### A) Data Access\n",
        "\n",
        "Your project should include data from at least three distinct types of sources.  For example: AWS S3, Relational Databases, Internet, Web Services, local files.  List what data sources you're planning to use."
      ]
    },
    {
      "cell_type": "markdown",
      "metadata": {
        "id": "D2gqhV2eAGGv"
      },
      "source": [
        "**Double-click to enter your answer**\n",
        "\n",
        "Healthdata.gov: A government project that promotes innovation and transparency in fields like health and education by offering free access to a variety of statistics.\n",
        "\n",
        " Kaggle:Platform for data science that provides datasets, organizes contests, and makes collaborative Jupyter notebooks possible for practical uses. It encourages community cooperation and offers scholars and data scientists useful resources.\n"
      ]
    },
    {
      "cell_type": "markdown",
      "metadata": {
        "id": "7AtqmZX7AGGv"
      },
      "source": [
        "#### B. Data Formats\n",
        "\n",
        "Your project should include data that comes in different file formats.  For example: HL7, EDI, HTML, CSV, Excel, JSON, XML.  List what data formats you're planning to use."
      ]
    },
    {
      "cell_type": "markdown",
      "metadata": {
        "id": "HWrhogWdAGGv"
      },
      "source": [
        "**Double-click to enter your answer**\n",
        "\n",
        "To ensure flexibility and compatibility, I intend to combine data in multiple file formats for my project. Among these are JSON (JavaScript Object Notation) for structured data, XML (eXtensible Markup Language) for hierarchical data representation, HTML for web-based information, CSV (Comma-Separated Values) for simple tabular data exchange, Excel for spreadsheet-based datasets, and Health Level Seven (HL7) for healthcare data. I can manage data from many industries and sources by using this wide range of formats, which guarantees a thorough and flexible approach to data integration and analysis in my project.\n"
      ]
    },
    {
      "cell_type": "markdown",
      "metadata": {
        "id": "Va-XD4uUAGGw"
      },
      "source": [
        "#### C. Objective\n",
        "\n",
        "What purpose would your project serve in a real work setting?  Take a couple of paragraphs to write down why this is an interesting product."
      ]
    },
    {
      "cell_type": "markdown",
      "metadata": {
        "id": "ehZhUsogAGGw"
      },
      "source": [
        "**Double-click to enter your answer**\n",
        "\n",
        "For my project, I've selected the \"Alzheimer's Disease and Healthy Aging Data\" from data.gov, taking advantage of the government's dedication to transparency and accessibility. This dataset offers useful data about the prevalence of Alzheimer's disease in the US across various age groups. The data include details about when Alzheimer's disease first manifests, the kinds of therapies that are given, and how long it takes between treatments. My goal in examining this dataset is to find patterns and relationships that may clarify the efficacy of different therapies for Alzheimer's patients.\n",
        "The age-wise distribution of Alzheimer's cases in this large dataset provides a detailed insight of the disease's presentation in various demographic groups. Furthermore, the data on the various forms of treatment and the lengths of time they last provide a special chance to investigate the temporal aspects of managing Alzheimer's disease. By analyzing this data, I hope to add to the body of information about Alzheimer's disease and possibly recognize trends that can help medical practitioners adjust treatment plans according to the effectiveness of various interventions and age groups.\n",
        "Using data.gov provides the reliability and veracity of the data because it comes from official government health institutions. The availability of a variety of file formats, including CSV and JSON, will make it easier for me to integrate the dataset into my analysis pipeline and explore the links between treatment modalities, age, and results for Alzheimer's patients nationwide.\n",
        "\n",
        "I choose Another dataset of \"Indicators of Anxiety or Depression Based on Reported Frequency of Symptoms During Last 7 Days\", this dataset contains Self-reported data on the frequency of anxiety or depression symptoms all through a week is collected in the \"Indicators of Anxiety or Depression Based on Reported Frequency of Symptoms During Last 7 Days\" dataset. It offers a thorough examination of the frequency and severity of various mental health markers, providing insightful information about the respondents' emotional health. Because of the dataset's temporal element, which makes it possible to identify patterns and trends in the appearance of symptoms, researchers, mental health practitioners, and policymakers can use it to inform targeted therapies and support systems.\n",
        "\n",
        "\n",
        "https://healthdata.gov/dataset/Alzheimer-s-Disease-and-Healthy-Aging-Data/i2i7-abim\n",
        "\n",
        "https://catalog.data.gov/dataset/indicators-of-anxiety-or-depression-based-on-reported-frequency-of-symptoms-during-last-7-.\n"
      ]
    },
    {
      "cell_type": "markdown",
      "metadata": {
        "id": "WQvdrBBVAGGw"
      },
      "source": [
        "\n",
        "\n",
        "---\n",
        "\n",
        "\n",
        "\n",
        "## Submit your work via GitHub as normal\n"
      ]
    }
  ],
  "metadata": {
    "kernelspec": {
      "display_name": "Python 3",
      "language": "python",
      "name": "python3"
    },
    "language_info": {
      "codemirror_mode": {
        "name": "ipython",
        "version": 3
      },
      "file_extension": ".py",
      "mimetype": "text/x-python",
      "name": "python",
      "nbconvert_exporter": "python",
      "pygments_lexer": "ipython3",
      "version": "3.9.16"
    },
    "colab": {
      "provenance": []
    }
  },
  "nbformat": 4,
  "nbformat_minor": 0
}