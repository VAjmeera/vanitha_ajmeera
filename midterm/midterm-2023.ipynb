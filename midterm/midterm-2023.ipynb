{
  "cells": [
    {
      "cell_type": "markdown",
      "metadata": {
        "id": "r7pHBSyiq_NX"
      },
      "source": [
        "# HDS5210-2022 Midterm\n",
        "\n",
        "In the midterm, you're going to use all the programming and data management skills you've developed so far to build a risk calculator that pretends to be integrated with a clinical registry.  You'll compute the PRIEST COVID-19 Clinical Severity Score for a series of patients and, based on their risk of an adverse outcome, query a REST web service to find a hospital to transfer them to. The end result of your work will be a list of instructions on where each patient should be discharged given their risk and various characteristics of the patient.\n",
        "\n",
        "Each step in the midterm will build up to form your complete solution.\n",
        "\n",
        "**Make sure you write good docstrings and doctests along the way!!**\n",
        "\n",
        "**The midterm is due at 11:59 PM CST on Monday, October 23rd.**\n",
        "\n",
        "---"
      ]
    },
    {
      "cell_type": "markdown",
      "metadata": {
        "id": "BB2T5Rr5q_NZ"
      },
      "source": [
        "## Step 1: Calculate PRIEST Clinical Severity Score\n",
        "\n",
        "This scoring algorithm can be found [here on the MDCalc website](https://www.mdcalc.com/priest-covid-19-clinical-severity-score#evidence).  \n",
        "\n",
        "1. You will need to write a function called **priest()** with the following input parameters.  \n",
        " * Sex (Gender assigned at birth)\n",
        " * Age in years\n",
        " * Respiratory rate in breaths per minute\n",
        " * Oxygen saturation as a percent between 0 and 1\n",
        " * Heart rate in beats per minute\n",
        " * Systolic BP in mmHg\n",
        " * Temperature in degrees C\n",
        " * Alertness as a string description\n",
        " * Inspired Oxygen as as string description\n",
        " * Performance Status as a string description\n",
        "2. The function will need to follow the algorithm provided on the MDCalc website to compute a risk percentage that should be returned as a numeric value between 0 and 1.\n",
        "3. Be sure to use docstring documentation and at least three built-in docstring test cases.\n",
        "4. Assume that the input values that are strings could be any combination of upper or lower case. For example: 'male', 'Male', 'MALE', 'MalE' should all be interpretted by your code as male.\n",
        "5. If any of the inputs are invalid (for example a sex value that is not recognizable as male or female) your code should return None.\n",
        "\n",
        "NOTES:\n",
        "1. In the final step there is a table that translates from **PRIEST Score** to **30-day probability of an outcome** but the last two probabilities are shown as ranges (59-88% and >99%).  Our code needs to output a single number, however. For our code, use the following rule:\n",
        " * If PRIEST score is between 17 and 25, the probability you return should be 0.59\n",
        " * If PRIEST score is greater than or equal to 26, the probability you return should be 0.99\n"
      ]
    },
    {
      "cell_type": "code",
      "execution_count": 40,
      "metadata": {
        "id": "z3839hrPq_NZ"
      },
      "outputs": [],
      "source": [
        "def priest(sex, age, respiratory_rate, oxygen_saturation, heart_rate, systolic_BP, temperature, alertness, inspired_oxygen, performance_status):\n",
        "    \"\"\"\n",
        "    (str, int, int, float, int, int, float, str, str, str) -> (float)\n",
        "    The priest function initially determines an individual values of COVID-19 severity based on the above given factors.\n",
        "    The algorithm used is available on the MDCalc website.\n",
        "    Based on the severity, we may then predict the probability that the patient would have any adverse effects within the next 30 days.\n",
        "\n",
        "    >>> priest(\"female\", 58, 18, 0.94, 88, 112, 38.3, 'Alert', 'air', 'Unrestricted normal activity')\n",
        "    0.03\n",
        "    >>> priest (\"FemalE\", 78, 15, 0.92, 100, 200, 31.0, 'confused or not alert', 'supplemental OxYGEN', 'limited strenuous activity, can do light activity')\n",
        "    0.49\n",
        "    >>> priest(\"MaLe\", 85, 19, 0.90, 80, 115, 38.2, 'CONFUSED OR not ALERT','SUPPLEMENTAL OxygEN','LIMITED activity, can SELF-CARE')\n",
        "    0.55\n",
        "    >>> priest('FEMALE', 66, 19, 0.96, 135, 115, 38.1, 'ALERT', 'AIR', 'bed/chair bound, no self-care')\n",
        "    0.34\n",
        "    >>> priest('female', 51, 23.0, 0.94, 135, 115, 38.1, 'ALERT', 'AIR', 'limited strenuous activity, can do light activity')\n",
        "    0.29\n",
        "    \"\"\"\n",
        "\n",
        "    score = 0\n",
        "    sex = sex.lower()\n",
        "    if sex == \"male\":\n",
        "        score += 1\n",
        "    elif sex != \"female\":\n",
        "        return None\n",
        "\n",
        "    if 16 <= age <= 49:\n",
        "        score += 0\n",
        "    elif 50 <= age <= 65:\n",
        "        score += 2\n",
        "    elif 66 <= age <= 80:\n",
        "        score += 3\n",
        "    elif age > 80:\n",
        "        score += 4\n",
        "\n",
        "    if respiratory_rate < 9:\n",
        "        score += 3\n",
        "    elif 9 <= respiratory_rate <= 11:\n",
        "        score += 1\n",
        "    elif 12 <= respiratory_rate <= 20:\n",
        "        score += 0\n",
        "    elif 21 <= respiratory_rate <= 24:\n",
        "        score += 2\n",
        "    elif respiratory_rate > 24:\n",
        "        score += 3\n",
        "\n",
        "    if oxygen_saturation > 0.95:\n",
        "        score += 0\n",
        "    elif 0.94 <= oxygen_saturation <= 0.95:\n",
        "        score += 1\n",
        "    elif oxygen_saturation >= 0.92 <= 0.93:\n",
        "        score += 2\n",
        "    elif oxygen_saturation < 0.92:\n",
        "        score += 3\n",
        "\n",
        "    if heart_rate < 41:\n",
        "        score += 3\n",
        "    elif 41 <= heart_rate <= 50:\n",
        "        score += 1\n",
        "    elif 51 <= heart_rate <= 90:\n",
        "        score += 0\n",
        "    elif 91 <= heart_rate <= 110:\n",
        "        score += 1\n",
        "    elif 111 <= heart_rate <= 130:\n",
        "        score += 2\n",
        "    elif heart_rate > 130:\n",
        "        score += 3\n",
        "\n",
        "    if systolic_BP < 91:\n",
        "        score += 3\n",
        "    elif 91 <= systolic_BP <= 100:\n",
        "        score += 2\n",
        "    elif 101 <= systolic_BP <= 110:\n",
        "        score += 1\n",
        "    elif 111 <= systolic_BP <= 219:\n",
        "        score += 0\n",
        "    elif systolic_BP > 219:\n",
        "        score += 3\n",
        "\n",
        "    if temperature < 35.1:\n",
        "        score += 3\n",
        "    elif 35.1 <= temperature <= 36.0:\n",
        "        score += 1\n",
        "    elif 36.1 <= temperature <= 38.0:\n",
        "        score += 0\n",
        "    elif 38.1 <= temperature <= 39.0:\n",
        "        score += 1\n",
        "    elif temperature > 39.0:\n",
        "        score += 2\n",
        "\n",
        "    alertness = alertness.lower()\n",
        "    if alertness == \"alert\":\n",
        "        score += 0\n",
        "    elif alertness == \"confused or not alert\":\n",
        "        score += 3\n",
        "\n",
        "    if inspired_oxygen.lower() == \"air\":\n",
        "        score += 0\n",
        "    elif inspired_oxygen.lower() == \"supplemental oxygen\":\n",
        "        score += 2\n",
        "\n",
        "    if performance_status.lower() == \"unrestricted normal activity\":\n",
        "        score += 0\n",
        "    elif performance_status.lower() == \"limited strenuous activity, can do light activity\":\n",
        "        score += 1\n",
        "    elif performance_status.lower() == \"limited activity, can self-care\":\n",
        "        score += 2\n",
        "    elif performance_status.lower() == \"limited self-care\":\n",
        "        score += 3\n",
        "    elif performance_status.lower() == \"bed/chair bound, no self-care\":\n",
        "        score += 4\n",
        "\n",
        "    risk = 0.0\n",
        "    if 0 <= score <= 1:\n",
        "        risk = 0.01\n",
        "    elif 2 <= score <= 3:\n",
        "        risk = 0.02\n",
        "    elif score == 4:\n",
        "        risk = 0.03\n",
        "    elif score == 5:\n",
        "        risk = 0.09\n",
        "    elif score == 6:\n",
        "        risk = 0.15\n",
        "    elif score == 7:\n",
        "        risk = 0.18\n",
        "    elif score == 8:\n",
        "        risk = 0.22\n",
        "    elif score == 9:\n",
        "        risk = 0.26\n",
        "    elif score == 10:\n",
        "        risk = 0.29\n",
        "    elif score == 11:\n",
        "        risk = 0.34\n",
        "    elif score == 12:\n",
        "        risk = 0.38\n",
        "    elif score == 13:\n",
        "        risk = 0.46\n",
        "    elif score == 14:\n",
        "        risk = 0.47\n",
        "    elif score == 15:\n",
        "        risk = 0.49\n",
        "    elif score == 16:\n",
        "        risk = 0.55\n",
        "    elif 17 <= score <= 25:\n",
        "        risk = 0.59\n",
        "    elif score >= 26:\n",
        "        risk = 0.99\n",
        "\n",
        "    return risk"
      ]
    },
    {
      "cell_type": "code",
      "execution_count": 41,
      "metadata": {
        "id": "nG541z7Fq_Na",
        "outputId": "8a3f8ea4-ad7f-4ffc-fad7-fc6386109076",
        "colab": {
          "base_uri": "https://localhost:8080/"
        }
      },
      "outputs": [
        {
          "output_type": "stream",
          "name": "stdout",
          "text": [
            "Finding tests in NoName\n",
            "Trying:\n",
            "    priest(\"female\", 58, 18, 0.94, 88, 112, 38.3, 'Alert', 'air', 'Unrestricted normal activity')\n",
            "Expecting:\n",
            "    0.03\n",
            "ok\n",
            "Trying:\n",
            "    priest (\"FemalE\", 78, 15, 0.92, 100, 200, 31.0, 'confused or not alert', 'supplemental OxYGEN', 'limited strenuous activity, can do light activity')\n",
            "Expecting:\n",
            "    0.49\n",
            "ok\n",
            "Trying:\n",
            "    priest(\"MaLe\", 85, 19, 0.90, 80, 115, 38.2, 'CONFUSED OR not ALERT','SUPPLEMENTAL OxygEN','LIMITED activity, can SELF-CARE')\n",
            "Expecting:\n",
            "    0.55\n",
            "ok\n",
            "Trying:\n",
            "    priest('FEMALE', 66, 19, 0.96, 135, 115, 38.1, 'ALERT', 'AIR', 'bed/chair bound, no self-care')\n",
            "Expecting:\n",
            "    0.34\n",
            "ok\n",
            "Trying:\n",
            "    priest('female', 51, 23.0, 0.94, 135, 115, 38.1, 'ALERT', 'AIR', 'limited strenuous activity, can do light activity')\n",
            "Expecting:\n",
            "    0.29\n",
            "ok\n"
          ]
        }
      ],
      "source": [
        "import doctest\n",
        "doctest.run_docstring_examples(priest, globals(),verbose=True)"
      ]
    },
    {
      "cell_type": "markdown",
      "metadata": {
        "id": "wycXyeBMq_Na"
      },
      "source": [
        "## Part 2: Find a hospital\n",
        "\n",
        "The next thing we have to do is figure out where to send this particular patient.  The guidelines on where to send a patient are based on their age (pediatric, adult, geriatric), sex, and risk percentage.  Luckily, you don't have to implement these rules. I already have. All you have to do is use a REST web service that I've created for you.\n",
        "\n",
        "You'll want to use Python to make a call to my REST web service similar to the example URL below. The first part of the URL will be the same for everyone and every request that you make. What you will need to modify for each of your requests is the information after the question mark.\n",
        "\n",
        "```\n",
        "https://oumdj6oci2.execute-api.us-east-1.amazonaws.com/prd/?age=40&sex=male&risk_pct=0.1\n",
        "```\n",
        "\n",
        "The example above asks my web service where a 40-year old male with a risk of 10% should go.  What the web service will return back is a JSON string containing the information you need.  That JSON will look like this:\n",
        "\n",
        "```json\n",
        "{\n",
        "  \"age\": \"40\",\n",
        "  \"sex\": \"male\",\n",
        "  \"risk\": \"0.1\",\n",
        "  \"hospital\": \"Southwest Hospital and Medical Center\"\n",
        "}\n",
        "```\n",
        "\n",
        "My function is not smart enough to understand `'MALE'` is the same as `'male'`.  You have to send it exactly `'male'` or `'female'`\n",
        "\n",
        "1. Your job is to write a function called **find_hospital()** that takes age, sex, and risk as parameters.\n",
        "2. Your function should call this REST web service using the `requests` module\n",
        "3. Then your function will need to interpret the JSON it gets and return just the name of the hospital\n",
        "4. If anything fails, return None\n",
        "5. Include a good docstring with at least three test cases.\n"
      ]
    },
    {
      "cell_type": "code",
      "execution_count": 42,
      "metadata": {
        "id": "qgZq3WIoq_Na"
      },
      "outputs": [],
      "source": [
        "import requests\n",
        "import doctest\n",
        "\n",
        "def find_hospital(age, sex, risk):\n",
        "    \"\"\"Returns the hospital name give the age, sex, and risk factor.\n",
        "    Invalid value for age returns None:\n",
        "    >>> find_hospital(-1, \"female\", 0.4)\n",
        "\n",
        "    Invalid value for sex returns None:\n",
        "    >>> find_hospital(30, \"xxxx\", 0.5)\n",
        "\n",
        "    Invalid value for risk returns None:\n",
        "    >>> find_hospital(42, \"male\", 1.1)\n",
        "\n",
        "    >>> find_hospital(40, \"male\", 0.1)\n",
        "    'Southwest Hospital and Medical Center'\n",
        "\n",
        "    >>> find_hospital(35, \"female\", 0.7)\n",
        "    'Emory Dunwoody Medical Center'\n",
        "    \"\"\"\n",
        "\n",
        "    api_url = \"https://oumdj6oci2.execute-api.us-east-1.amazonaws.com/prd/?age={0}&sex={1}&risk_pct={2}\"\n",
        "\n",
        "    if sex.lower() not in [\"male\", \"female\"]:\n",
        "        return None\n",
        "    if age < 0:\n",
        "        return None\n",
        "    if risk < 0.0 or risk > 1.0:\n",
        "        return None\n",
        "    response = requests.get(api_url.format(age, sex, risk))\n",
        "    if response.status_code == 200:\n",
        "        return response.json()[\"hospital\"]\n",
        "    else:\n",
        "        return None"
      ]
    },
    {
      "cell_type": "code",
      "execution_count": 43,
      "metadata": {
        "id": "7RzXXfaEq_Nb",
        "outputId": "c419cd01-e293-45bf-b45a-bb74e625c2cb",
        "colab": {
          "base_uri": "https://localhost:8080/"
        }
      },
      "outputs": [
        {
          "output_type": "stream",
          "name": "stdout",
          "text": [
            "Finding tests in NoName\n",
            "Trying:\n",
            "    find_hospital(-1, \"female\", 0.4)\n",
            "Expecting nothing\n",
            "ok\n",
            "Trying:\n",
            "    find_hospital(30, \"xxxx\", 0.5)\n",
            "Expecting nothing\n",
            "ok\n",
            "Trying:\n",
            "    find_hospital(42, \"male\", 1.1)\n",
            "Expecting nothing\n",
            "ok\n",
            "Trying:\n",
            "    find_hospital(40, \"male\", 0.1)\n",
            "Expecting:\n",
            "    'Southwest Hospital and Medical Center'\n",
            "ok\n",
            "Trying:\n",
            "    find_hospital(35, \"female\", 0.7)\n",
            "Expecting:\n",
            "    'Emory Dunwoody Medical Center'\n",
            "ok\n"
          ]
        }
      ],
      "source": [
        "import doctest\n",
        "doctest.run_docstring_examples(find_hospital, globals(),verbose=True)"
      ]
    },
    {
      "cell_type": "markdown",
      "metadata": {
        "id": "QhxHcvlTq_Nb"
      },
      "source": [
        "## Part 3: Get the address for that hospital from a JSON file\n",
        "\n",
        "Great! Now we have code to tell us which hospital to send someone to... but we don't know where that hospital is. The next function we need to create is one that looks up the address of that hospital.  All of these hospitals are in Atlanta, Georgia.  We're going to use the list from this webpage to lookup the address for that hospital, based on its name.  https://www.officialusa.com/stateguides/health/hospitals/georgia.html\n",
        "\n",
        "Because we skipped the section about Beautiful Soup and working with HTML, I've converted this information into a JSON document for you.  It's available for you here.  Your code should retrieve this file using the `requests` module.\n",
        "\n",
        "`https://drive.google.com/uc?export=download&id=1fIFD-NkcdiMu941N4GjyMDWxiKsFJBw-`\n",
        "\n",
        "1. You need to create a function called **get_address()** that takes hospital name as a parameter and searches the data from this JSON file for the hospital you want to find.\n",
        "2. Your code will have to load the JSON and return the correct hospital based on name.\n",
        "3. If the hospital name isn't found, the function should return None.\n",
        "4. Be sure to use good docstring documentation and includes at least 3 test cases."
      ]
    },
    {
      "cell_type": "code",
      "execution_count": 44,
      "metadata": {
        "id": "yTQvGpJnq_Nb"
      },
      "outputs": [],
      "source": [
        "import requests\n",
        "import doctest\n",
        "\n",
        "def get_address_from_url(url):\n",
        "    response = requests.get(url)\n",
        "    if response.status_code == 200:\n",
        "        return response.json()\n",
        "    else:\n",
        "        return None\n",
        "\n",
        "api_url = \"https://drive.google.com/uc?export=download&id=1fIFD-NkcdiMu941N4GjyMDWxiKsFJBw-\"\n",
        "hospital_addresses = get_address_from_url(api_url)\n",
        "\n",
        "def get_address(hospital_name):\n",
        "    \"\"\"\n",
        "    :param hospital_name:\n",
        "    :return: hospital_address\n",
        "    >>> get_address(\"\")\n",
        "    >>> get_address(\"unknown hospital\")\n",
        "    >>> get_address(\"Emory Dunwoody Medical Center\")\n",
        "    '4500 NORTH SHALLOWFORD ROAD'\n",
        "    \"\"\"\n",
        "    hospital_name = hospital_name.upper()\n",
        "    if hospital_name in hospital_addresses:\n",
        "        return hospital_addresses[hospital_name][\"ADDRESS\"]\n",
        "    else:\n",
        "        return None"
      ]
    },
    {
      "cell_type": "code",
      "source": [
        "import doctest\n",
        "doctest.run_docstring_examples(get_address, globals(), verbose=True)"
      ],
      "metadata": {
        "id": "b6udlGPNsqT-",
        "outputId": "74d39e65-8620-42ed-b313-4f87f202db3d",
        "colab": {
          "base_uri": "https://localhost:8080/"
        }
      },
      "execution_count": 45,
      "outputs": [
        {
          "output_type": "stream",
          "name": "stdout",
          "text": [
            "Finding tests in NoName\n",
            "Trying:\n",
            "    get_address(\"\")\n",
            "Expecting nothing\n",
            "ok\n",
            "Trying:\n",
            "    get_address(\"unknown hospital\")\n",
            "Expecting nothing\n",
            "ok\n",
            "Trying:\n",
            "    get_address(\"Emory Dunwoody Medical Center\")\n",
            "Expecting:\n",
            "    '4500 NORTH SHALLOWFORD ROAD'\n",
            "ok\n"
          ]
        }
      ]
    },
    {
      "cell_type": "markdown",
      "metadata": {
        "id": "xpKn0zDSq_Nb"
      },
      "source": [
        "## Part 4: Run the risk calculator on a population\n",
        "\n",
        "At the link below, there is a file called `people.psv`.  It is a pipe-delimited (`|`) file with columns that match the inputs for the PRIEST calculation above.  Your code should use the `requests` module to retrieve the file from this URL.\n",
        "\n",
        "`https://drive.google.com/uc?export=download&id=1fLxJN9YGUqmqExrilxSS8furwUER5HHh`\n",
        "\n",
        "\n",
        "In addition, the file has a patient identifier in the first column.\n",
        "\n",
        "1. Write a function called **process_people()** that takes the file location above as its only parameter. Your Python program should use your code above to process all of these rows, determine the hospital and address, and return a list whose items are a dictionary like this: `{ patient_number: [sex, age, breath, o2sat, heart, systolic, temp, alertness, inspired, status, hospital, address]}`.  Look at the file in Part 5 for what the output looks like.\n",
        "2. Be sure to use good docstrings, but you don't need any tests in your doc strings.  I've provided those for you withe file in Part 5.\n",
        "\n",
        "\n",
        "**NOTE** that when running your code for all the 100 records in the `people.psv` file, it may take a few minutes to complete.  You're making multiple calls to the internet for each record, so that can take a little while.\n"
      ]
    },
    {
      "cell_type": "code",
      "execution_count": 46,
      "metadata": {
        "id": "ti0-gVXBq_Nb"
      },
      "outputs": [],
      "source": [
        "import requests\n",
        "\n",
        "def process_people(url):\n",
        "    \"\"\"\n",
        "    This function reads the csv file from the given URL and prepares a dictionary with patient details.\n",
        "    :url: The Google Drive URL\n",
        "    :return: the dictionary with patient details.\n",
        "    \"\"\"\n",
        "    people = {}\n",
        "    response = requests.get(url)\n",
        "    for row in response.text.split(\"\\n\")[1:]:\n",
        "        fields = row.strip().split(\"|\")\n",
        "        if(len(fields) == 11):\n",
        "            patient_id = fields[0]\n",
        "            (sex, age, respiratory_rate, oxygen_saturation, heart_rate, systolic_BP,\n",
        "            temperature, alertness, inspired_oxygen, performance_status) = (fields[1], int(fields[2]), float(fields[3]), float(fields[4]),\n",
        "                float(fields[5]), float(fields[6]), float(fields[7]), fields[8], fields[9], fields[10])\n",
        "            risk = priest(sex, age, respiratory_rate, oxygen_saturation, heart_rate, systolic_BP,\n",
        "                          temperature, alertness, inspired_oxygen, performance_status)\n",
        "            hospital = find_hospital(age, sex.lower(), risk)\n",
        "            address = get_address(hospital)\n",
        "            people[patient_id] = [sex, age, respiratory_rate, oxygen_saturation, heart_rate, systolic_BP,\n",
        "                                  temperature, alertness, inspired_oxygen, performance_status, risk, hospital, address]\n",
        "    return people"
      ]
    },
    {
      "cell_type": "code",
      "source": [
        "import doctest\n",
        "print(people)"
      ],
      "metadata": {
        "id": "9tGJ1nt4wAAG",
        "outputId": "2144f0f2-ee69-4414-f87f-6d4b4bf93718",
        "colab": {
          "base_uri": "https://localhost:8080/"
        }
      },
      "execution_count": 47,
      "outputs": [
        {
          "output_type": "stream",
          "name": "stdout",
          "text": [
            "{'E9559': ['FEMALE', 40, 24.0, 0.96, 105.0, 115.0, 34.9, 'ALERT', 'AIR', 'unrestricted normal activity', 0.15, 'Select Specialty Hospital - Northeast Atlanta', '1821 CLIFTON ROAD NE'], 'E9385': ['Female', 51, 19.0, 0.99, 90.0, 91.0, 38.1, 'ALERT', 'supplemental oxygen', 'unrestricted normal activity', 0.18, 'Select Specialty Hospital - Northeast Atlanta', '1821 CLIFTON ROAD NE'], 'E3067': ['female', 40, 29.0, 0.96, 105.0, 95.0, 38.1, 'ALERT', 'air', 'unrestricted normal activity', 0.18, 'Select Specialty Hospital - Northeast Atlanta', '1821 CLIFTON ROAD NE'], 'E9422': ['FEMALE', 66, 19.0, 0.96, 135.0, 115.0, 38.1, 'ALERT', 'AIR', 'bed/chair bound, no self-care', 0.34, 'Wesley Woods Geriatric Hospital', '1821 CLIFTON ROAD, NE'], 'E8661': ['MALE', 18, 22.0, 0.95, 105.0, 115.0, 36.3, 'Confused or Not Alert', 'air', 'unrestricted normal activity', 0.22, 'Southwest Hospital and Medical Center', '501 FAIRBURN ROAD SW'], 'E6235': ['Male', 16, 23.0, 0.96, 135.0, 115.0, 39.2, 'ALERT', 'supplemental oxygen', 'unrestricted normal activity', 0.29, 'Childrens Healthcare of Atlanta at Scottish Rite', '1001 JOHNSON FERRY RD'], 'E4451': ['MALE', 40, 8.0, 0.96, 135.0, 115.0, 38.1, 'ALERT', 'AIR', 'unrestricted normal activity', 0.22, 'Southwest Hospital and Medical Center', '501 FAIRBURN ROAD SW'], 'E8433': ['FEMALE', 40, 23.0, 0.99, 89.0, 91.0, 38.1, 'ALERT', 'AIR', 'limited self-care', 0.22, 'Select Specialty Hospital - Northeast Atlanta', '1821 CLIFTON ROAD NE'], 'E7593': ['FEMALE', 80, 23.0, 0.96, 105.0, 115.0, 38.1, 'ALERT', 'supplemental oxygen', 'limited activity, can self-care', 0.34, 'Wesley Woods Geriatric Hospital', '1821 CLIFTON ROAD, NE'], 'E3296': ['MALE', 51, 23.0, 0.95, 105.0, 115.0, 38.1, 'ALERT', 'AIR', 'unrestricted normal activity', 0.22, 'Southwest Hospital and Medical Center', '501 FAIRBURN ROAD SW'], 'E4157': ['FEMALE', 40, 23.0, 0.96, 41.0, 115.0, 35.4, 'ALERT', 'AIR', 'unrestricted normal activity', 0.03, 'Select Specialty Hospital - Northeast Atlanta', '1821 CLIFTON ROAD NE'], 'E7702': ['FEMALE', 40, 22.0, 0.96, 105.0, 115.0, 38.1, 'ALERT', 'supplemental oxygen', 'unrestricted normal activity', 0.15, 'Select Specialty Hospital - Northeast Atlanta', '1821 CLIFTON ROAD NE'], 'E8158': ['MALE', 40, 20.0, 0.99, 135.0, 115.0, 39.2, 'ALERT', 'AIR', 'unrestricted normal activity', 0.15, 'Southwest Hospital and Medical Center', '501 FAIRBURN ROAD SW'], 'E4795': ['female', 80, 11.0, 0.93, 105.0, 95.0, 40.8, 'ALERT', 'AIR', 'limited activity, can self-care', 0.46, 'Wesley Woods Geriatric Hospital', '1821 CLIFTON ROAD, NE'], 'E8800': ['MALE', 80, 22.0, 0.96, 105.0, 115.0, 39.2, 'confused or not alert', 'AIR', 'limited activity, can self-care', 0.47, 'Wesley Woods Geriatric Hospital', '1821 CLIFTON ROAD, NE'], 'E4855': ['female', 51, 23.0, 0.94, 135.0, 115.0, 38.1, 'ALERT', 'AIR', 'limited strenuous activity, can do light activity', 0.29, 'Select Specialty Hospital - Northeast Atlanta', '1821 CLIFTON ROAD NE'], 'E9691': ['Male', 16, 10.0, 0.96, 105.0, 115.0, 38.1, 'ALERT', 'AIR', 'unrestricted normal activity', 0.03, 'Childrens Healthcare of Atlanta at Scottish Rite', '1001 JOHNSON FERRY RD'], 'E4535': ['FEMALE', 19, 11.0, 0.99, 105.0, 115.0, 35.4, 'ALERT', 'AIR', 'unrestricted normal activity', 0.02, 'Select Specialty Hospital - Northeast Atlanta', '1821 CLIFTON ROAD NE'], 'E2360': ['Male', 40, 20.0, 0.96, 51.0, 95.0, 34.9, 'alert', 'supplemental oxygen', 'unrestricted normal activity', 0.22, 'Southwest Hospital and Medical Center', '501 FAIRBURN ROAD SW'], 'E3447': ['MALE', 80, 22.0, 0.96, 41.0, 115.0, 38.1, 'ALERT', 'AIR', 'limited activity, can self-care', 0.29, 'Wesley Woods Geriatric Hospital', '1821 CLIFTON ROAD, NE'], 'E8208': ['FEMALE', 18, 23.0, 0.96, 135.0, 115.0, 38.1, 'ALERT', 'AIR', 'unrestricted normal activity', 0.15, 'Select Specialty Hospital - Northeast Atlanta', '1821 CLIFTON ROAD NE'], 'E4428': ['FEMALE', 40, 23.0, 0.96, 38.0, 115.0, 36.3, 'ALERT', 'AIR', 'unrestricted normal activity', 0.09, 'Select Specialty Hospital - Northeast Atlanta', '1821 CLIFTON ROAD NE'], 'E2766': ['Male', 18, 23.0, 0.96, 105.0, 115.0, 34.9, 'ALERT', 'AIR', 'unrestricted normal activity', 0.18, 'Southwest Hospital and Medical Center', '501 FAIRBURN ROAD SW'], 'E3888': ['FEMALE', 51, 19.0, 0.96, 135.0, 115.0, 34.9, 'ALERT', 'AIR', 'unrestricted normal activity', 0.22, 'Select Specialty Hospital - Northeast Atlanta', '1821 CLIFTON ROAD NE'], 'E7110': ['female', 85, 24.0, 0.99, 105.0, 101.0, 40.8, 'Confused or Not Alert', 'AIR', 'unrestricted normal activity', 0.46, 'Wesley Woods Geriatric Hospital', '1821 CLIFTON ROAD, NE'], 'E2668': ['FEMALE', 18, 22.0, 0.96, 105.0, 101.0, 38.1, 'ALERT', 'AIR', 'unrestricted normal activity', 0.09, 'Select Specialty Hospital - Northeast Atlanta', '1821 CLIFTON ROAD NE'], 'E8482': ['Male', 40, 22.0, 0.96, 105.0, 230.0, 36.3, 'ALERT', 'AIR', 'limited self-care', 0.29, 'Southwest Hospital and Medical Center', '501 FAIRBURN ROAD SW'], 'E9619': ['FEMALE', 40, 11.0, 0.98, 41.0, 115.0, 38.1, 'ALERT', 'AIR', 'unrestricted normal activity', 0.02, 'Select Specialty Hospital - Northeast Atlanta', '1821 CLIFTON ROAD NE'], 'E1700': ['male', 40, 23.0, 0.96, 105.0, 115.0, 38.1, 'Confused or Not Alert', 'AIR', 'unrestricted normal activity', 0.22, 'Southwest Hospital and Medical Center', '501 FAIRBURN ROAD SW'], 'E8585': ['MALE', 19, 8.0, 0.96, 105.0, 115.0, 36.3, 'alert', 'AIR', 'bed/chair bound, no self-care', 0.26, 'Southwest Hospital and Medical Center', '501 FAIRBURN ROAD SW'], 'E8633': ['FEMALE', 40, 22.0, 0.96, 38.0, 91.0, 35.4, 'ALERT', 'AIR', 'unrestricted normal activity', 0.22, 'Select Specialty Hospital - Northeast Atlanta', '1821 CLIFTON ROAD NE'], 'E2117': ['FEMALE', 16, 22.0, 0.96, 135.0, 115.0, 39.2, 'Confused or Not Alert', 'supplemental oxygen', 'bed/chair bound, no self-care', 0.55, 'Hughes Spalding Childrens Hospital', '1711 TULLIE CIRCLE NE'], 'E2322': ['female', 18, 22.0, 0.96, 105.0, 115.0, 38.1, 'alert', 'supplemental oxygen', 'unrestricted normal activity', 0.15, 'Select Specialty Hospital - Northeast Atlanta', '1821 CLIFTON ROAD NE'], 'E6912': ['FEMALE', 51, 23.0, 0.96, 105.0, 95.0, 34.9, 'ALERT', 'AIR', 'unrestricted normal activity', 0.29, 'Select Specialty Hospital - Northeast Atlanta', '1821 CLIFTON ROAD NE'], 'E5702': ['Male', 80, 23.0, 0.96, 135.0, 115.0, 38.1, 'ALERT', 'AIR', 'unrestricted normal activity', 0.29, 'Wesley Woods Geriatric Hospital', '1821 CLIFTON ROAD, NE'], 'E5513': ['FEMALE', 18, 12.0, 0.96, 105.0, 115.0, 38.1, 'ALERT', 'AIR', 'unrestricted normal activity', 0.02, 'Select Specialty Hospital - Northeast Atlanta', '1821 CLIFTON ROAD NE'], 'E1861': ['FEMALE', 18, 22.0, 0.96, 105.0, 230.0, 38.1, 'ALERT', 'AIR', 'limited strenuous activity, can do light activity', 0.22, 'Select Specialty Hospital - Northeast Atlanta', '1821 CLIFTON ROAD NE'], 'E4809': ['FEMALE', 40, 22.0, 0.96, 41.0, 230.0, 38.1, 'ALERT', 'AIR', 'unrestricted normal activity', 0.18, 'Select Specialty Hospital - Northeast Atlanta', '1821 CLIFTON ROAD NE'], 'E1365': ['MALE', 22, 22.0, 0.96, 115.0, 101.0, 35.4, 'ALERT', 'AIR', 'bed/chair bound, no self-care', 0.34, 'Emory Dunwoody Medical Center', '4500 NORTH SHALLOWFORD ROAD'], 'E5984': ['Male', 40, 12.0, 0.93, 105.0, 91.0, 35.1, 'ALERT', 'AIR', 'limited activity, can self-care', 0.26, 'Southwest Hospital and Medical Center', '501 FAIRBURN ROAD SW'], 'E7013': ['FEMALE', 66, 23.0, 0.96, 135.0, 89.0, 40.8, 'ALERT', 'supplemental oxygen', 'unrestricted normal activity', 0.49, 'Wesley Woods Geriatric Hospital', '1821 CLIFTON ROAD, NE'], 'E2331': ['female', 18, 23.0, 0.98, 105.0, 115.0, 38.1, 'ALERT', 'AIR', 'limited self-care', 0.18, 'Select Specialty Hospital - Northeast Atlanta', '1821 CLIFTON ROAD NE'], 'E9938': ['MALE', 18, 12.0, 0.96, 105.0, 89.0, 35.1, 'ALERT', 'AIR', 'unrestricted normal activity', 0.15, 'Southwest Hospital and Medical Center', '501 FAIRBURN ROAD SW'], 'E5121': ['Female', 18, 23.0, 0.96, 41.0, 95.0, 38.1, 'ALERT', 'supplemental oxygen', 'limited activity, can self-care', 0.29, 'Select Specialty Hospital - Northeast Atlanta', '1821 CLIFTON ROAD NE'], 'E9280': ['male', 65, 10.0, 0.96, 135.0, 91.0, 38.1, 'ALERT', 'AIR', 'unrestricted normal activity', 0.29, 'Wesley Woods Geriatric Hospital', '1821 CLIFTON ROAD, NE'], 'E4762': ['FEMALE', 40, 12.0, 0.98, 105.0, 95.0, 38.1, 'ALERT', 'AIR', 'unrestricted normal activity', 0.03, 'Select Specialty Hospital - Northeast Atlanta', '1821 CLIFTON ROAD NE'], 'E6885': ['MALE', 18, 23.0, 0.93, 89.0, 115.0, 35.1, 'confused or not alert', 'AIR', 'limited activity, can self-care', 0.34, 'Emory Dunwoody Medical Center', '4500 NORTH SHALLOWFORD ROAD'], 'E1695': ['FEMALE', 40, 22.0, 0.96, 41.0, 115.0, 38.1, 'ALERT', 'AIR', 'unrestricted normal activity', 0.03, 'Select Specialty Hospital - Northeast Atlanta', '1821 CLIFTON ROAD NE'], 'E9658': ['Female', 18, 10.0, 0.96, 90.0, 230.0, 38.1, 'ALERT', 'AIR', 'limited self-care', 0.22, 'Select Specialty Hospital - Northeast Atlanta', '1821 CLIFTON ROAD NE'], 'E1961': ['FEMALE', 65, 23.0, 0.96, 105.0, 115.0, 40.8, 'ALERT', 'AIR', 'limited activity, can self-care', 0.26, 'Wesley Woods Geriatric Hospital', '1821 CLIFTON ROAD, NE'], 'E9154': ['FEMALE', 66, 8.0, 0.94, 105.0, 89.0, 35.4, 'alert', 'AIR', 'bed/chair bound, no self-care', 0.55, 'Wesley Woods Geriatric Hospital', '1821 CLIFTON ROAD, NE'], 'E9417': ['FEMALE', 40, 23.0, 0.96, 105.0, 95.0, 38.1, 'alert', 'AIR', 'unrestricted normal activity', 0.15, 'Select Specialty Hospital - Northeast Atlanta', '1821 CLIFTON ROAD NE'], 'E9979': ['Male', 18, 8.0, 0.96, 105.0, 115.0, 38.1, 'ALERT', 'AIR', 'limited strenuous activity, can do light activity', 0.18, 'Southwest Hospital and Medical Center', '501 FAIRBURN ROAD SW'], 'E9316': ['MALE', 18, 23.0, 0.96, 135.0, 115.0, 38.1, 'ALERT', 'AIR', 'unrestricted normal activity', 0.18, 'Southwest Hospital and Medical Center', '501 FAIRBURN ROAD SW'], 'E8146': ['Male', 18, 12.0, 0.96, 115.0, 115.0, 38.1, 'ALERT', 'AIR', 'unrestricted normal activity', 0.03, 'Southwest Hospital and Medical Center', '501 FAIRBURN ROAD SW'], 'E3093': ['female', 40, 29.0, 0.96, 105.0, 95.0, 38.1, 'ALERT', 'AIR', 'unrestricted normal activity', 0.18, 'Select Specialty Hospital - Northeast Atlanta', '1821 CLIFTON ROAD NE'], 'E8829': ['male', 65, 12.0, 0.96, 51.0, 230.0, 38.1, 'alert', 'AIR', 'unrestricted normal activity', 0.18, 'Wesley Woods Geriatric Hospital', '1821 CLIFTON ROAD, NE'], 'E1453': ['male', 18, 24.0, 0.99, 105.0, 115.0, 38.1, 'ALERT', 'AIR', 'unrestricted normal activity', 0.09, 'Southwest Hospital and Medical Center', '501 FAIRBURN ROAD SW'], 'E5777': ['female', 66, 23.0, 0.96, 115.0, 89.0, 38.1, 'ALERT', 'AIR', 'limited strenuous activity, can do light activity', 0.38, 'Wesley Woods Geriatric Hospital', '1821 CLIFTON ROAD, NE'], 'E4564': ['FEMALE', 18, 24.0, 0.96, 41.0, 115.0, 35.1, 'confused or not alert', 'AIR', 'unrestricted normal activity', 0.18, 'Select Specialty Hospital - Northeast Atlanta', '1821 CLIFTON ROAD NE'], 'E1904': ['FEMALE', 40, 22.0, 0.93, 38.0, 95.0, 38.1, 'Confused or Not Alert', 'AIR', 'unrestricted normal activity', 0.46, 'Emory Dunwoody Medical Center', '4500 NORTH SHALLOWFORD ROAD'], 'E8746': ['Female', 40, 12.0, 0.93, 105.0, 115.0, 38.1, 'ALERT', 'AIR', 'unrestricted normal activity', 0.03, 'Select Specialty Hospital - Northeast Atlanta', '1821 CLIFTON ROAD NE'], 'E9165': ['FEMALE', 19, 22.0, 0.98, 50.0, 95.0, 38.1, 'ALERT', 'AIR', 'limited activity, can self-care', 0.22, 'Select Specialty Hospital - Northeast Atlanta', '1821 CLIFTON ROAD NE'], 'E9305': ['FEMALE', 40, 8.0, 0.89, 105.0, 101.0, 38.1, 'ALERT', 'supplemental oxygen', 'unrestricted normal activity', 0.34, 'Emory Dunwoody Medical Center', '4500 NORTH SHALLOWFORD ROAD'], 'E3217': ['Female', 40, 10.0, 0.95, 105.0, 95.0, 38.1, 'ALERT', 'AIR', 'unrestricted normal activity', 0.15, 'Select Specialty Hospital - Northeast Atlanta', '1821 CLIFTON ROAD NE'], 'E3127': ['Female', 40, 8.0, 0.96, 38.0, 115.0, 36.3, 'ALERT', 'AIR', 'limited strenuous activity, can do light activity', 0.18, 'Select Specialty Hospital - Northeast Atlanta', '1821 CLIFTON ROAD NE'], 'E7501': ['female', 18, 23.0, 0.96, 135.0, 115.0, 38.1, 'ALERT', 'AIR', 'unrestricted normal activity', 0.15, 'Select Specialty Hospital - Northeast Atlanta', '1821 CLIFTON ROAD NE'], 'E4997': ['female', 40, 23.0, 0.94, 105.0, 115.0, 36.3, 'ALERT', 'AIR', 'unrestricted normal activity', 0.03, 'Select Specialty Hospital - Northeast Atlanta', '1821 CLIFTON ROAD NE'], 'E6181': ['female', 19, 23.0, 0.96, 89.0, 115.0, 38.1, 'ALERT', 'AIR', 'unrestricted normal activity', 0.02, 'Select Specialty Hospital - Northeast Atlanta', '1821 CLIFTON ROAD NE'], 'E1073': ['FEMALE', 18, 24.0, 0.95, 50.0, 115.0, 38.1, 'Confused or Not Alert', 'AIR', 'limited self-care', 0.34, 'Emory Dunwoody Medical Center', '4500 NORTH SHALLOWFORD ROAD'], 'E9608': ['female', 80, 12.0, 0.96, 50.0, 89.0, 38.1, 'ALERT', 'AIR', 'unrestricted normal activity', 0.22, 'Wesley Woods Geriatric Hospital', '1821 CLIFTON ROAD, NE'], 'E7663': ['FEMALE', 18, 11.0, 0.96, 105.0, 115.0, 38.1, 'ALERT', 'air', 'limited self-care', 0.15, 'Select Specialty Hospital - Northeast Atlanta', '1821 CLIFTON ROAD NE'], 'E7648': ['female', 66, 12.0, 0.98, 41.0, 115.0, 34.9, 'ALERT', 'air', 'unrestricted normal activity', 0.18, 'Wesley Woods Geriatric Hospital', '1821 CLIFTON ROAD, NE'], 'E1883': ['male', 40, 10.0, 0.98, 105.0, 115.0, 38.1, 'ALERT', 'AIR', 'unrestricted normal activity', 0.03, 'Southwest Hospital and Medical Center', '501 FAIRBURN ROAD SW'], 'E2001': ['FEMALE', 18, 12.0, 0.99, 51.0, 115.0, 38.1, 'Confused or Not Alert', 'AIR', 'unrestricted normal activity', 0.03, 'Select Specialty Hospital - Northeast Atlanta', '1821 CLIFTON ROAD NE'], 'E2418': ['male', 18, 20.0, 0.94, 105.0, 115.0, 35.4, 'ALERT', 'air', 'unrestricted normal activity', 0.03, 'Southwest Hospital and Medical Center', '501 FAIRBURN ROAD SW'], 'E3739': ['Male', 85, 10.0, 0.96, 105.0, 115.0, 38.1, 'Confused or Not Alert', 'supplemental oxygen', 'unrestricted normal activity', 0.46, 'Wesley Woods Geriatric Hospital', '1821 CLIFTON ROAD, NE'], 'E8351': ['FEMALE', 40, 23.0, 0.96, 90.0, 101.0, 38.1, 'ALERT', 'AIR', 'unrestricted normal activity', 0.03, 'Select Specialty Hospital - Northeast Atlanta', '1821 CLIFTON ROAD NE'], 'E2882': ['Male', 51, 24.0, 0.98, 105.0, 91.0, 38.1, 'ALERT', 'AIR', 'unrestricted normal activity', 0.26, 'Southwest Hospital and Medical Center', '501 FAIRBURN ROAD SW'], 'E1902': ['Female', 85, 22.0, 0.96, 105.0, 115.0, 38.1, 'ALERT', 'supplemental oxygen', 'unrestricted normal activity', 0.29, 'Wesley Woods Geriatric Hospital', '1821 CLIFTON ROAD, NE'], 'E2155': ['Male', 18, 22.0, 0.94, 105.0, 115.0, 38.1, 'ALERT', 'air', 'limited self-care', 0.26, 'Southwest Hospital and Medical Center', '501 FAIRBURN ROAD SW'], 'E4345': ['Female', 40, 19.0, 0.89, 41.0, 115.0, 34.9, 'ALERT', 'air', 'unrestricted normal activity', 0.18, 'Select Specialty Hospital - Northeast Atlanta', '1821 CLIFTON ROAD NE'], 'E4194': ['FEMALE', 40, 12.0, 0.95, 105.0, 91.0, 38.1, 'ALERT', 'AIR', 'limited self-care', 0.22, 'Select Specialty Hospital - Northeast Atlanta', '1821 CLIFTON ROAD NE'], 'E5211': ['male', 65, 22.0, 0.96, 41.0, 115.0, 38.1, 'ALERT', 'AIR', 'unrestricted normal activity', 0.18, 'Wesley Woods Geriatric Hospital', '1821 CLIFTON ROAD, NE'], 'E5488': ['Female', 40, 12.0, 0.94, 105.0, 101.0, 38.1, 'ALERT', 'AIR', 'unrestricted normal activity', 0.03, 'Select Specialty Hospital - Northeast Atlanta', '1821 CLIFTON ROAD NE'], 'E8560': ['FEMALE', 40, 23.0, 0.96, 41.0, 115.0, 35.1, 'confused or not alert', 'AIR', 'unrestricted normal activity', 0.18, 'Select Specialty Hospital - Northeast Atlanta', '1821 CLIFTON ROAD NE'], 'E2995': ['FEMALE', 18, 20.0, 0.99, 105.0, 95.0, 35.1, 'alert', 'AIR', 'unrestricted normal activity', 0.03, 'Select Specialty Hospital - Northeast Atlanta', '1821 CLIFTON ROAD NE'], 'E3422': ['FEMALE', 40, 8.0, 0.96, 105.0, 115.0, 35.4, 'ALERT', 'AIR', 'unrestricted normal activity', 0.09, 'Select Specialty Hospital - Northeast Atlanta', '1821 CLIFTON ROAD NE'], 'E7707': ['Female', 18, 20.0, 0.96, 38.0, 115.0, 36.3, 'ALERT', 'air', 'limited strenuous activity, can do light activity', 0.03, 'Select Specialty Hospital - Northeast Atlanta', '1821 CLIFTON ROAD NE'], 'E3119': ['FEMALE', 18, 20.0, 0.99, 135.0, 89.0, 35.1, 'ALERT', 'supplemental oxygen', 'unrestricted normal activity', 0.26, 'Select Specialty Hospital - Northeast Atlanta', '1821 CLIFTON ROAD NE'], 'E1419': ['male', 65, 23.0, 0.99, 105.0, 91.0, 38.1, 'alert', 'AIR', 'unrestricted normal activity', 0.26, 'Wesley Woods Geriatric Hospital', '1821 CLIFTON ROAD, NE'], 'E7748': ['male', 40, 23.0, 0.93, 105.0, 115.0, 38.1, 'ALERT', 'supplemental oxygen', 'unrestricted normal activity', 0.26, 'Southwest Hospital and Medical Center', '501 FAIRBURN ROAD SW'], 'E7251': ['Female', 40, 12.0, 0.96, 105.0, 91.0, 38.1, 'alert', 'AIR', 'unrestricted normal activity', 0.03, 'Select Specialty Hospital - Northeast Atlanta', '1821 CLIFTON ROAD NE'], 'E1235': ['FEMALE', 40, 29.0, 0.96, 41.0, 115.0, 38.1, 'ALERT', 'AIR', 'bed/chair bound, no self-care', 0.26, 'Select Specialty Hospital - Northeast Atlanta', '1821 CLIFTON ROAD NE'], 'E5361': ['FEMALE', 18, 22.0, 0.93, 90.0, 101.0, 38.1, 'confused or not alert', 'AIR', 'unrestricted normal activity', 0.26, 'Select Specialty Hospital - Northeast Atlanta', '1821 CLIFTON ROAD NE'], 'E7130': ['FEMALE', 18, 22.0, 0.96, 50.0, 115.0, 38.1, 'ALERT', 'AIR', 'limited strenuous activity, can do light activity', 0.09, 'Select Specialty Hospital - Northeast Atlanta', '1821 CLIFTON ROAD NE'], 'E5665': ['FEMALE', 85, 23.0, 0.96, 115.0, 115.0, 38.1, 'ALERT', 'AIR', 'unrestricted normal activity', 0.26, 'Wesley Woods Geriatric Hospital', '1821 CLIFTON ROAD, NE'], 'E9957': ['Female', 40, 22.0, 0.98, 89.0, 230.0, 38.1, 'alert', 'AIR', 'unrestricted normal activity', 0.15, 'Select Specialty Hospital - Northeast Atlanta', '1821 CLIFTON ROAD NE'], 'E10000': ['FEMALE', 18, 23.0, 0.96, 105.0, 101.0, 38.1, 'ALERT', 'AIR', 'limited activity, can self-care', 0.18, 'Select Specialty Hospital - Northeast Atlanta', '1821 CLIFTON ROAD NE']}\n"
          ]
        }
      ]
    },
    {
      "cell_type": "markdown",
      "metadata": {
        "id": "fKuq9eETq_Nc"
      },
      "source": [
        "## Part 5: Checking your final results\n",
        "\n",
        "The final step is to check your results.  You should be able to compare your results to the output in `people_results.json` at the link below.  Write some code to check your results.  This does not need to be a function.\n",
        "\n",
        "`https://drive.google.com/uc?export=download&id=1gx1SSC20mO5XL6uYD0mdcM_cL91fcIW5`\n"
      ]
    },
    {
      "cell_type": "code",
      "execution_count": 48,
      "metadata": {
        "id": "fqAKcSFsq_Nc"
      },
      "outputs": [],
      "source": [
        "import json\n",
        "\n",
        "def check_results(people):\n",
        "    f = open('people_results.json')\n",
        "    data = json.load(f)\n",
        "    passed = True\n",
        "    for patient_id in people.keys():\n",
        "        if patient_id in data:\n",
        "            if people[patient_id] != data[patient_id]:\n",
        "                print(people[patient_id])\n",
        "                print(data[patient_id])\n",
        "                passed = False\n",
        "                break\n",
        "        else:\n",
        "            passed = False\n",
        "            print(patient_id, \"mismatches\")\n",
        "            break\n",
        "\n",
        "    if passed:\n",
        "        print(\"Test Passed.\")\n",
        "    else:\n",
        "        print(\"Test Failed!\")"
      ]
    },
    {
      "cell_type": "code",
      "source": [
        "people = process_people(\"https://drive.google.com/uc?export=download&id=1fLxJN9YGUqmqExrilxSS8furwUER5HHh\")\n",
        "check_results(people)"
      ],
      "metadata": {
        "id": "RRU2YHRhvJtg",
        "outputId": "6b9ef0fc-00c9-4cc1-dc10-78276fc72b3e",
        "colab": {
          "base_uri": "https://localhost:8080/"
        }
      },
      "execution_count": 49,
      "outputs": [
        {
          "output_type": "stream",
          "name": "stdout",
          "text": [
            "Test Passed.\n"
          ]
        }
      ]
    },
    {
      "cell_type": "markdown",
      "metadata": {
        "id": "rvu_hofYq_Nc"
      },
      "source": [
        "---\n",
        "\n",
        "## Check your work above\n",
        "\n",
        "If you didn't get them all correct, take a few minutes to think through those that aren't correct.\n",
        "\n",
        "\n",
        "## Submitting Your Work\n",
        "\n",
        "Submit your work as usual into a folder named `midterm`"
      ]
    },
    {
      "cell_type": "markdown",
      "metadata": {
        "id": "CHoHMF2zq_Nc"
      },
      "source": [
        "---"
      ]
    }
  ],
  "metadata": {
    "kernelspec": {
      "display_name": "Python 3",
      "language": "python",
      "name": "python3"
    },
    "language_info": {
      "codemirror_mode": {
        "name": "ipython",
        "version": 3
      },
      "file_extension": ".py",
      "mimetype": "text/x-python",
      "name": "python",
      "nbconvert_exporter": "python",
      "pygments_lexer": "ipython3",
      "version": "3.9.16"
    },
    "colab": {
      "provenance": []
    }
  },
  "nbformat": 4,
  "nbformat_minor": 0
}