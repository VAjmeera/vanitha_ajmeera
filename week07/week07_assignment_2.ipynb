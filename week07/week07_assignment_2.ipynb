{
  "cells": [
    {
      "cell_type": "markdown",
      "metadata": {
        "id": "9Yy_yl2uFbCj"
      },
      "source": [
        "# Week 7 Assignment\n",
        "\n",
        "We've been working with different types of data structures in Python (dictionary, list, etc), how those are represented in JSON documents, and how to write code to access specific data elements. In this week's assignment, you will need to create your own JSON document to store information about yourself and the grades you've received from week 1 to week 4 and the week 6 quiz.  That is, everything you should have received a grade for.  Then you'll need to show me you know how to navigate the JSON in that file.\n",
        "\n",
        "Different from what we've done in the past, you do not have to write any functions or include any docstrings.  Just create some JSON and write some code.\n",
        "\n",
        "---"
      ]
    },
    {
      "cell_type": "markdown",
      "metadata": {
        "id": "Kb9dnOa6FbCm"
      },
      "source": [
        "## 7.1 Create a JSON string\n",
        "\n",
        "Create a JSON string that contains your name, email, year you were born, all of the grades you've received back so far, and a comment about what you thought was most challenging on each of those assignments.  This can be any structure you choose, but make sure it uses a dictionary and a list, and has at least two levels of hierarchy.  That is, it can't just be one big long list."
      ]
    },
    {
      "cell_type": "markdown",
      "metadata": {
        "id": "eKxhcIkQFbCn"
      },
      "source": [
        "First, explain how your data structure is going to look..."
      ]
    },
    {
      "cell_type": "markdown",
      "metadata": {
        "id": "as0Dj3G6FbCn"
      },
      "source": [
        "* I am going to create a JSON file with multi-hierarchy dictionaries and a list of assignments and associated grade details\n",
        "one of the dictionary contains my personal information like name, email address and year of birth\n",
        "The other disctionaries consists of assignment details like grades and respective challenges\n",
        "I will group all individual assignment dictionaries under a list."
      ]
    },
    {
      "cell_type": "markdown",
      "metadata": {
        "id": "k25fMIA1FbCn"
      },
      "source": [
        "Then put the actual JSON you've created inside the multiline string below..."
      ]
    },
    {
      "cell_type": "code",
      "execution_count": 33,
      "metadata": {
        "id": "qddYB2YmFbCo"
      },
      "outputs": [],
      "source": [
        "hds5210 = \"\"\"\n",
        "{\n",
        "    \"about_me\":\n",
        "      {\n",
        "        \"name\": \"Vanitha Ajmeera\",\n",
        "        \"email\": \"vanitha.ajmeera@slu.edu\",\n",
        "        \"birth_year\": \"1991\"\n",
        "      },\n",
        "    \"grades\": [\n",
        "      {\n",
        "        \"assignment_name\": \"HDS5210_week1_assignment\",\n",
        "        \"grade\": \"10\",\n",
        "        \"challenge\": \"straightforward\"\n",
        "      },\n",
        "      {\n",
        "        \"assignment_name\": \"HDS5210_week2_assignment\",\n",
        "        \"grade\": \"10\",\n",
        "        \"challenge\": \"not complicated, but I encountered some errors in the code, and all errors were debugged and resolved\"\n",
        "      },\n",
        "      {\n",
        "        \"assignment_name\": \"HDS5210_week3_assignment\",\n",
        "        \"grade\": \"10\",\n",
        "        \"challenge\": \"the last two questions are little bit complicated\"\n",
        "      },\n",
        "      {\n",
        "        \"assignment_name\": \"HDS5210_week4_assignment\",\n",
        "        \"grade\": \"10\",\n",
        "        \"challenge\": \"trouble-free in execution\"\n",
        "      },\n",
        "      {\n",
        "        \"assignment_name\": \"HDS5210_week5_assignment\",\n",
        "        \"grade\": \"not yet graded\",\n",
        "        \"challenge\": \"complicated in understanding the question at first place but understood after multiple reading attempts\"\n",
        "      },\n",
        "      {\n",
        "        \"assignment_name\": \"HDS5210_week6_assignment\",\n",
        "        \"grade\": \"not yet graded\",\n",
        "        \"challenge\": \"complicated\"\n",
        "      },\n",
        "      {\n",
        "        \"assignment_name\": \"HDS5210_week6_quiz\",\n",
        "        \"grade\" : \"5\",\n",
        "        \"challenge\": \"time constriant and confused about docstrings usage in the quiz\"\n",
        "      }\n",
        "  ]\n",
        "}\n",
        "\"\"\""
      ]
    },
    {
      "cell_type": "markdown",
      "metadata": {
        "id": "ngYJuOHjFbCo"
      },
      "source": [
        "## 7.2 Do something with your JSON\n",
        "\n",
        "Now use Python code to do something with the Json above.  Turn it into English text, but make sure that you use at least one loop to access some dict or list content of your JSON.  Below, I've provided some basic code to read in the string above as JSON and return a Python object.  Your job is to work with that data structure and print out the important information like your name, email, and how you did on each assignment."
      ]
    },
    {
      "cell_type": "code",
      "execution_count": 34,
      "metadata": {
        "id": "6pBDGQhaFbCp",
        "outputId": "0e2161e8-4c57-413c-aec1-d876f5bedfc9",
        "colab": {
          "base_uri": "https://localhost:8080/"
        }
      },
      "outputs": [
        {
          "output_type": "stream",
          "name": "stdout",
          "text": [
            "My name is Vanitha Ajmeera and my email address is vanitha.ajmeera@slu.edu and I have born in year 1991\n",
            "\n",
            " I have scored 10 points in HDS5210_week1_assignment, and the assignment challenges are straightforward\n",
            " I have scored 10 points in HDS5210_week2_assignment, and the assignment challenges are not complicated, but I encountered some errors in the code, and all errors were debugged and resolved\n",
            " I have scored 10 points in HDS5210_week3_assignment, and the assignment challenges are the last two questions are little bit complicated\n",
            " I have scored 10 points in HDS5210_week4_assignment, and the assignment challenges are trouble-free in execution\n",
            " I have scored not yet graded points in HDS5210_week5_assignment, and the assignment challenges are complicated in understanding the question at first place but understood after multiple reading attempts\n",
            " I have scored not yet graded points in HDS5210_week6_assignment, and the assignment challenges are complicated\n",
            " I have scored 5 points in HDS5210_week6_quiz, and the assignment challenges are time constriant and confused about docstrings usage in the quiz\n"
          ]
        }
      ],
      "source": [
        "import json\n",
        "\n",
        "info = json.loads(hds5210)\n",
        "\n",
        "name = info[\"about_me\"][\"name\"]\n",
        "my_email = info[\"about_me\"][\"email\"]\n",
        "my_year_of_birth= info[\"about_me\"][\"birth_year\"]\n",
        "\n",
        "print(f\"My name is {name} and my email address is {my_email} and I have born in year {my_year_of_birth}\\n\")\n",
        "\n",
        "#using a for loop to get all the assignment details from multiple dictionaries\n",
        "for grades in info[\"grades\"]:\n",
        "    name = grades[\"assignment_name\"]\n",
        "    grade = grades[\"grade\"]\n",
        "    challenge = grades[\"challenge\"]\n",
        "    print(f\" I have scored {grade} points in {name}, and the assignment challenges are {challenge}\")"
      ]
    },
    {
      "cell_type": "markdown",
      "metadata": {
        "id": "pMQ1FhB_FbCp"
      },
      "source": [
        "## 7.3 Reflect\n",
        "\n",
        "Write a paragraph on any reflections you have. Was this hard? Easy?  What parts were most challenging or easiest? What did you like or dislike about the assignment?  Share whatever important thoughts you have abou this assignment."
      ]
    },
    {
      "cell_type": "markdown",
      "metadata": {
        "id": "uApGWH3HFbCp"
      },
      "source": [
        "With the below given example, The assignment is straitforward except for reading and printing the dictionaries under the list. It took me sometime to understand from online resources (w3schools.com)"
      ]
    },
    {
      "cell_type": "markdown",
      "metadata": {
        "id": "xrseFD2cFbCp"
      },
      "source": [
        "---\n",
        "\n",
        "# Example\n",
        "\n",
        "Below is an example of something similar, but this uses information my and my friend's kids instead of grades."
      ]
    },
    {
      "cell_type": "code",
      "execution_count": 35,
      "metadata": {
        "id": "ZJF-7pzWFbCp",
        "outputId": "851319ee-2a0a-4ea3-de48-a0fea176bc31",
        "colab": {
          "base_uri": "https://localhost:8080/"
        }
      },
      "outputs": [
        {
          "output_type": "stream",
          "name": "stdout",
          "text": [
            "Hi, my name is Paul. I've got 3 kids. Their names are Ellie, Ada, Teddy.\n",
            "My friend, Anny has 1 kids. That's fewer than me. Their names are 1\n"
          ]
        }
      ],
      "source": [
        "hds5210 = \"\"\"\n",
        "{\n",
        "    \"me\": {\n",
        "        \"name\": \"Paul\",\n",
        "        \"kids\": [\"Ellie\", \"Ada\", \"Teddy\"]\n",
        "    },\n",
        "    \"friend\": {\n",
        "        \"name\": \"Anny\",\n",
        "        \"kids\": [\"Abby\"]\n",
        "    }\n",
        "}\n",
        "\"\"\"\n",
        "\n",
        "import json\n",
        "\n",
        "info = json.loads(hds5210)\n",
        "\n",
        "me = info[\"me\"][\"name\"]\n",
        "my_kids_count = len(info[\"me\"][\"kids\"])\n",
        "kids_list = \", \".join(info[\"me\"][\"kids\"])\n",
        "friend = info[\"friend\"][\"name\"]\n",
        "friends_kid_count = len(info[\"friend\"][\"kids\"])\n",
        "friend_kids = \", \".join(info[\"friend\"][\"kids\"])\n",
        "compare = \"more\" if friends_kid_count > my_kids_count else \"fewer\"\n",
        "\n",
        "print(f\"Hi, my name is {me}. I've got {my_kids_count} kids. Their names are {kids_list}.\")\n",
        "print(f\"My friend, {friend} has {friends_kid_count} kids. That's {compare} than me. Their names are {friends_kid_count}\")"
      ]
    }
  ],
  "metadata": {
    "kernelspec": {
      "display_name": "Python 3",
      "language": "python",
      "name": "python3"
    },
    "language_info": {
      "codemirror_mode": {
        "name": "ipython",
        "version": 3
      },
      "file_extension": ".py",
      "mimetype": "text/x-python",
      "name": "python",
      "nbconvert_exporter": "python",
      "pygments_lexer": "ipython3",
      "version": "3.9.16"
    },
    "colab": {
      "provenance": []
    }
  },
  "nbformat": 4,
  "nbformat_minor": 0
}