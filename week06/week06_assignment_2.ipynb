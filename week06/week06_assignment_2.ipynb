{
  "cells": [
    {
      "cell_type": "markdown",
      "metadata": {
        "nbgrader": {
          "grade": false,
          "grade_id": "intro",
          "locked": true,
          "schema_version": 1,
          "solution": false
        },
        "id": "8O7j8dGFYWZ_"
      },
      "source": [
        "# Week 6 Exercises\n",
        "\n",
        "_McKinney 6.1_\n",
        "\n",
        "There are multiple ways to solve the problems below.  You can use any one of several approaches.  For example, you can read CSV files using Pandas or the csv module.  Your score won't depend on which modules you choose to use unless explicitly noted below, but your programming style will still matter."
      ]
    },
    {
      "cell_type": "markdown",
      "metadata": {
        "nbgrader": {
          "grade": false,
          "grade_id": "q1-description",
          "locked": true,
          "schema_version": 1,
          "solution": false
        },
        "id": "adeL3GRwYWaK"
      },
      "source": [
        "### 30.1 List of Allergies\n",
        "\n",
        "In this GitHub repository, there is a file called `allergies.json` that contains a list of patient allergies.  You will need to download this [file from here](https://raw.githubusercontent.com/paulboal/hds5210-2023/main/week06/allergies.json) and then upload it into Google Colab to run these examples. It is taken from sample data provided by the EHR vendor, Epic, here: https://open.epic.com/Clinical/Allergy\n",
        "\n",
        "Take some time to look at the structure of the file.  You can open it directly in Jupyter by clicking the _Home_ icon, then the _from_instructor_ folder, and then the _data_ folder.\n",
        "\n",
        "Within the file, you'll see that it is a dictionary with many items in it.  One of those items is called `entry` and that item is a list of things.  You can tell that because the item name is immediately followed by an opening square bracket, signifying the start of a list.  It's line 11 of the file: `  \"entry\": [`\n",
        "\n",
        "Write a function named `allergy_count(json_file)` that takes as one parameter the name of the JSON file and returns an integer number of entries in that file.  Your function should open the file, read the json into a Python object, and return how many items there are in the list of `entry`s."
      ]
    },
    {
      "cell_type": "code",
      "execution_count": 150,
      "metadata": {
        "id": "RvaHJAcqYWaM"
      },
      "outputs": [],
      "source": [
        "import json\n",
        "ALLERGIES_FILE=\"allergies.json\""
      ]
    },
    {
      "cell_type": "code",
      "source": [
        "import json\n",
        "from pathlib import Path\n",
        "HOME = str(Path.home())\n"
      ],
      "metadata": {
        "id": "lwgQ5KPOsfN-"
      },
      "execution_count": 151,
      "outputs": []
    },
    {
      "cell_type": "markdown",
      "source": [
        "This allergies.json file  contains allergy count data, this will be provide how many allergies factors contain in this file."
      ],
      "metadata": {
        "id": "QgFA7Z4xvW3E"
      }
    },
    {
      "cell_type": "code",
      "execution_count": 152,
      "metadata": {
        "nbgrader": {
          "grade": false,
          "grade_id": "q1-answer",
          "locked": false,
          "schema_version": 1,
          "solution": true
        },
        "id": "ZHox0KlpYWaP"
      },
      "outputs": [],
      "source": [
        "# Solution\n",
        "def allergy_count(json_file):\n",
        "    with open(json_file) as allergies :\n",
        "        data = json.load(allergies)\n",
        "        return len(data['entry'])"
      ]
    },
    {
      "cell_type": "markdown",
      "source": [
        "The above code provides total number of allergies file in alleries.json file."
      ],
      "metadata": {
        "id": "azX3AkJJO4fb"
      }
    },
    {
      "cell_type": "code",
      "execution_count": 153,
      "metadata": {
        "colab": {
          "base_uri": "https://localhost:8080/"
        },
        "id": "JXn1fV_aYWaQ",
        "outputId": "b424a19b-9f92-4710-bf22-bca4bce8fd33"
      },
      "outputs": [
        {
          "output_type": "execute_result",
          "data": {
            "text/plain": [
              "4"
            ]
          },
          "metadata": {},
          "execution_count": 153
        }
      ],
      "source": [
        "allergy_count(ALLERGIES_FILE)"
      ]
    },
    {
      "cell_type": "markdown",
      "source": [
        "This file have 4 numbers of allergies in 'entry'."
      ],
      "metadata": {
        "id": "DEvFYaJgwDd0"
      }
    },
    {
      "cell_type": "code",
      "execution_count": 154,
      "metadata": {
        "nbgrader": {
          "grade": true,
          "grade_id": "q1-tests",
          "locked": true,
          "points": 5,
          "schema_version": 1,
          "solution": false
        },
        "id": "eUTionqBYWaS"
      },
      "outputs": [],
      "source": [
        "assert type(allergy_count(ALLERGIES_FILE)) == int\n",
        "assert allergy_count(ALLERGIES_FILE) == 4"
      ]
    },
    {
      "cell_type": "markdown",
      "metadata": {
        "id": "WJ5Rib92YWaT"
      },
      "source": [
        "### 30.2 Number of Patients\n",
        "\n",
        "If you dig a little bit deaper into this list of allergies, you'll see that each result has a patient associated with it.  Create a funcation called `patient_count(json_file)` that will count how many unique patients we have in this JSON structure.  "
      ]
    },
    {
      "cell_type": "code",
      "execution_count": 155,
      "metadata": {
        "id": "Hv6ASotrYWaU"
      },
      "outputs": [],
      "source": [
        "# Solution\n",
        "def patient_count(ALLERGIES_FILE):\n",
        "    with open (ALLERGIES_FILE) as af:\n",
        "\n",
        "        data = json.load(af)\n",
        "\n",
        "        all_patients = [ ]\n",
        "        entry_array = data['entry']\n",
        "\n",
        "        for entry in entry_array:\n",
        "            all_patients.append(entry['resource'] ['patient'] ['display'])\n",
        "\n",
        "        return len(set(all_patients))"
      ]
    },
    {
      "cell_type": "markdown",
      "source": [
        "This code provide how many patients are present in the alleries.json file, using of 'entry' have resource, patient and dispaly. (We are using the function patient_count to determine how many unique patients are included in this file.)"
      ],
      "metadata": {
        "id": "Z1NMlnmL1-r5"
      }
    },
    {
      "cell_type": "code",
      "execution_count": 156,
      "metadata": {
        "colab": {
          "base_uri": "https://localhost:8080/"
        },
        "id": "1kBClGcHYWaW",
        "outputId": "38dc4204-6784-414e-b85c-42d6c01aaa64"
      },
      "outputs": [
        {
          "output_type": "execute_result",
          "data": {
            "text/plain": [
              "2"
            ]
          },
          "metadata": {},
          "execution_count": 156
        }
      ],
      "source": [
        "patient_count(ALLERGIES_FILE)"
      ]
    },
    {
      "cell_type": "markdown",
      "source": [
        "There are 2 numbers of patients in this json file."
      ],
      "metadata": {
        "id": "xKrQJ3832gMl"
      }
    },
    {
      "cell_type": "code",
      "execution_count": 157,
      "metadata": {
        "id": "W6wvjGcjYWaa"
      },
      "outputs": [],
      "source": [
        "assert type(patient_count(ALLERGIES_FILE)) == int\n",
        "assert patient_count(ALLERGIES_FILE) == 2"
      ]
    },
    {
      "cell_type": "markdown",
      "metadata": {
        "id": "He__8jrnYWac"
      },
      "source": [
        "### 30.3 How Many Allergies per Patient\n",
        "\n",
        "Although each entry is a separate allergy, several of them are for the same patient.  Write a function called `allergy_per_patient(json_file)` that counts up how many allergies each patient has.\n"
      ]
    },
    {
      "cell_type": "code",
      "execution_count": 158,
      "metadata": {
        "id": "7z2Eb8_9YWac"
      },
      "outputs": [],
      "source": [
        "# Solution\n",
        "def allergy_per_patient(ALLERGIES_FILE):\n",
        "    with open(ALLERGIES_FILE) as json_file:\n",
        "        data = json.load(json_file)\n",
        "\n",
        "    all_patients = [ ]\n",
        "\n",
        "    entry_array = data['entry']\n",
        "\n",
        "    for entry in entry_array:\n",
        "        all_patients.append(entry['resource'] ['patient'] ['display'])\n",
        "\n",
        "    allergy_per_patient_dict = dict()\n",
        "\n",
        "    for patient in all_patients:\n",
        "        if patient not in allergy_per_patient_dict:\n",
        "            allergy_per_patient_dict[patient] = 1\n",
        "\n",
        "        else:\n",
        "            allergy_per_patient_dict[patient] += 1\n",
        "\n",
        "    return allergy_per_patient_dict"
      ]
    },
    {
      "cell_type": "markdown",
      "source": [
        "This function provides the total number of allergies per patient as well as the number of patients who are effected by allergies."
      ],
      "metadata": {
        "id": "sWaOVr_DQUe-"
      }
    },
    {
      "cell_type": "code",
      "execution_count": 159,
      "metadata": {
        "colab": {
          "base_uri": "https://localhost:8080/"
        },
        "id": "DyDqRb7gYWad",
        "outputId": "9cebd2af-e8a3-4d4e-a9f8-e97806c70cf7"
      },
      "outputs": [
        {
          "output_type": "execute_result",
          "data": {
            "text/plain": [
              "{'Jason Argonaut': 3, 'Paul Boal': 1}"
            ]
          },
          "metadata": {},
          "execution_count": 159
        }
      ],
      "source": [
        "allergy_per_patient(ALLERGIES_FILE)"
      ]
    },
    {
      "cell_type": "code",
      "execution_count": 160,
      "metadata": {
        "id": "9sbHA7RKYWae"
      },
      "outputs": [],
      "source": [
        "assert type(allergy_per_patient(ALLERGIES_FILE)) == dict\n",
        "assert allergy_per_patient(ALLERGIES_FILE) == {'Paul Boal': 1, 'Jason Argonaut': 3}"
      ]
    },
    {
      "cell_type": "markdown",
      "metadata": {
        "nbgrader": {
          "grade": false,
          "grade_id": "q2-question",
          "locked": true,
          "schema_version": 1,
          "solution": false
        },
        "id": "Ocr1P_ZsYWaf"
      },
      "source": [
        "### 30.4 Patient Allergies and Reaction\n",
        "\n",
        "You'll see in the file that each of the items in the `entry` list have several other attributes including a patient name, substance text representation, and a reaction manifestation.  Create a function named `allergy_list(json_file)` that will create an output list that has patient name, allergy, and reaction for each `entry`.  The actual result you should get will be:\n",
        "\n",
        "```python\n",
        "[['Jason Argonaut', 'PENICILLIN G', 'Hives'],\n",
        " ['Paul Boal', 'PENICILLIN G', 'Bruising'],\n",
        " ['Jason Argonaut', 'SHELLFISH-DERIVED PRODUCTS', 'Itching'],\n",
        " ['Jason Argonaut', 'STRAWBERRY', 'Anaphylaxis']]\n",
        "```\n",
        "\n",
        "You'll notice that the reaction and the manifestation of that action are lists.  You only need to capture the first reaction and the first manifestation of the action.  That is, if there is a list of things, just output the first one."
      ]
    },
    {
      "cell_type": "code",
      "execution_count": 161,
      "metadata": {
        "nbgrader": {
          "grade": false,
          "grade_id": "q2-answer",
          "locked": false,
          "schema_version": 1,
          "solution": true
        },
        "id": "JTXsxYNnYWag"
      },
      "outputs": [],
      "source": [
        "# Solution\n",
        "def allergy_list(ALLERGIED_FILE):\n",
        "    with open (ALLERGIES_FILE)as json_file:\n",
        "        data = json.load(json_file)\n",
        "\n",
        "        all_patients_data = [ ]\n",
        "        entry_array = data['entry']\n",
        "    for entry in entry_array:\n",
        "        patient_data = [ ]\n",
        "        entry_resourse = entry['resource']\n",
        "        patient_data.append(entry_resourse['patient'] ['display'])\n",
        "        patient_data.append(entry_resourse['substance'] ['text'])\n",
        "        patient_data.append(entry_resourse['reaction'][0]['manifestation'][0]['text'])\n",
        "        all_patients_data.append(patient_data)\n",
        "    return all_patients_data"
      ]
    },
    {
      "cell_type": "markdown",
      "source": [
        "This code will be provides total patient data including information and extractions names in json file. Allergies and reactions are included in entry_resource_substance aand display."
      ],
      "metadata": {
        "id": "DFsgpumIRFMq"
      }
    },
    {
      "cell_type": "code",
      "execution_count": 162,
      "metadata": {
        "colab": {
          "base_uri": "https://localhost:8080/"
        },
        "id": "or3IxpxPYWah",
        "outputId": "4d5bf245-1fab-43d3-ab00-33d5bfb65c79"
      },
      "outputs": [
        {
          "output_type": "execute_result",
          "data": {
            "text/plain": [
              "[['Jason Argonaut', 'PENICILLIN G', 'Hives'],\n",
              " ['Jason Argonaut', 'SHELLFISH-DERIVED PRODUCTS', 'Itching'],\n",
              " ['Jason Argonaut', 'STRAWBERRY', 'Anaphylaxis'],\n",
              " ['Paul Boal', 'PENICILLIN G', 'Bruising']]"
            ]
          },
          "metadata": {},
          "execution_count": 162
        }
      ],
      "source": [
        "allergy_list(ALLERGIES_FILE)"
      ]
    },
    {
      "cell_type": "code",
      "execution_count": 163,
      "metadata": {
        "nbgrader": {
          "grade": true,
          "grade_id": "q2-tests",
          "locked": true,
          "points": 10,
          "schema_version": 1,
          "solution": false
        },
        "id": "gLQSoyqVYWai"
      },
      "outputs": [],
      "source": [
        "assert allergy_list(ALLERGIES_FILE) == [['Jason Argonaut', 'PENICILLIN G', 'Hives'],\n",
        " ['Jason Argonaut', 'SHELLFISH-DERIVED PRODUCTS', 'Itching'],\n",
        " ['Jason Argonaut', 'STRAWBERRY', 'Anaphylaxis'],\n",
        " ['Paul Boal', 'PENICILLIN G', 'Bruising']]\n"
      ]
    },
    {
      "cell_type": "markdown",
      "metadata": {
        "nbgrader": {
          "grade": false,
          "grade_id": "q3-question",
          "locked": true,
          "schema_version": 1,
          "solution": false
        },
        "id": "62OpWtyVYWai"
      },
      "source": [
        "### 30.5 Allergy Reaction\n",
        "\n",
        "Write a function called `allergy_reaction(json_file,patient,substance)` that takes three parameter and returns the reaction that will happen if the patient takes the specified substance.  You can solve this, in part, by calling your `allergy_list` function inside your new `allergy_reaction` function.\n",
        "\n",
        "If the substance is not found in the allergy list, the function should return None."
      ]
    },
    {
      "cell_type": "code",
      "execution_count": 164,
      "metadata": {
        "nbgrader": {
          "grade": false,
          "grade_id": "q3-answer",
          "locked": false,
          "schema_version": 1,
          "solution": true
        },
        "id": "WifHBBl3YWai"
      },
      "outputs": [],
      "source": [
        "# Solution\n",
        "def allergy_reaction(ALLERGIES_FILE, patient, substance):\n",
        "\n",
        "    total_allergy_list = allergy_list(ALLERGIES_FILE)\n",
        "\n",
        "    for allergy in total_allergy_list:\n",
        "        if allergy[0] == patient and allergy[1] == substance:\n",
        "            return allergy[2]\n",
        "    return None"
      ]
    },
    {
      "cell_type": "markdown",
      "source": [
        "By reading a JSON file containing information about allergies, this tool determines whether a specific patient is allergic to a specific drug. If the patient has an allergy to the medicine, it will result in the appropriate response. Unless the patient has a medication or chemical allergy If it isn't listed in the allergy list, none"
      ],
      "metadata": {
        "id": "LNQ4d4tASYF3"
      }
    },
    {
      "cell_type": "code",
      "execution_count": 165,
      "metadata": {
        "colab": {
          "base_uri": "https://localhost:8080/",
          "height": 35
        },
        "id": "G8XgvPDtYWaj",
        "outputId": "8f56b7c8-b6fa-47ce-e622-307f9db121e2"
      },
      "outputs": [
        {
          "output_type": "execute_result",
          "data": {
            "text/plain": [
              "'Hives'"
            ],
            "application/vnd.google.colaboratory.intrinsic+json": {
              "type": "string"
            }
          },
          "metadata": {},
          "execution_count": 165
        }
      ],
      "source": [
        "allergy_reaction(ALLERGIES_FILE, 'Jason Argonaut', 'PENICILLIN G')"
      ]
    },
    {
      "cell_type": "code",
      "execution_count": 166,
      "metadata": {
        "nbgrader": {
          "grade": true,
          "grade_id": "q3-tests",
          "locked": true,
          "points": 5,
          "schema_version": 1,
          "solution": false
        },
        "id": "w8hfzmnzYWak"
      },
      "outputs": [],
      "source": [
        "assert allergy_reaction(ALLERGIES_FILE, 'Jason Argonaut', 'PENICILLIN G') == 'Hives'\n",
        "assert allergy_reaction(ALLERGIES_FILE, 'Jason Argonaut', 'SHELLFISH-DERIVED PRODUCTS') == 'Itching'\n",
        "assert allergy_reaction(ALLERGIES_FILE, 'Jason Argonaut', 'STRAWBERRY') == 'Anaphylaxis'\n",
        "assert allergy_reaction(ALLERGIES_FILE, 'Jason Argonaut', 'PENICILLIN') == None\n",
        "assert allergy_reaction(ALLERGIES_FILE, 'Paul Boal', 'PENICILLIN G') == 'Bruising'"
      ]
    },
    {
      "cell_type": "markdown",
      "metadata": {
        "id": "P7_1KqCyYWak"
      },
      "source": [
        "---\n",
        "\n",
        "## Check your work above\n",
        "\n",
        "If you didn't get them all correct, take a few minutes to think through those that aren't correct.\n",
        "\n",
        "\n",
        "## Submitting Your Work\n",
        "\n",
        "In order to submit your work, you'll need to save this notebook file back to GitHub.  To do that in Google Colab:\n",
        "1. File -> Save a Copy in GitHub\n",
        "2. Make sure your HDS5210 repository is selected\n",
        "3. Make sure the file name includes the week number like this: `week06/week06_assignment_2.ipynb`\n",
        "4. Add a commit message that means something\n",
        "\n",
        "**Be sure week names are lowercase and use a two digit week number!!**\n",
        "\n",
        "**Be sure you use the same file name provided by the instructor!!**\n",
        "\n"
      ]
    }
  ],
  "metadata": {
    "celltoolbar": "Create Assignment",
    "kernelspec": {
      "display_name": "Python 3",
      "language": "python",
      "name": "python3"
    },
    "language_info": {
      "codemirror_mode": {
        "name": "ipython",
        "version": 3
      },
      "file_extension": ".py",
      "mimetype": "text/x-python",
      "name": "python",
      "nbconvert_exporter": "python",
      "pygments_lexer": "ipython3",
      "version": "3.9.16"
    },
    "colab": {
      "provenance": []
    }
  },
  "nbformat": 4,
  "nbformat_minor": 0
}