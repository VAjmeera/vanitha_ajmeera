{
  "cells": [
    {
      "cell_type": "markdown",
      "metadata": {
        "nbgrader": {
          "grade": false,
          "grade_id": "intro",
          "locked": true,
          "schema_version": 1,
          "solution": false
        },
        "id": "3395Tsz9Yofj"
      },
      "source": [
        "# Week 6 Exercises\n",
        "\n",
        "_McKinney 6.1_\n",
        "\n",
        "There are multiple ways to solve the problems below.  You can use any one of several approaches.  For example, you can read CSV files using Pandas or the csv module.  Your score won't depend on which modules you choose to use unless explicitly noted below, but your programming style will still matter."
      ]
    },
    {
      "cell_type": "markdown",
      "metadata": {
        "nbgrader": {
          "grade": false,
          "grade_id": "q1-description",
          "locked": true,
          "schema_version": 1,
          "solution": false
        },
        "id": "clEymbHUYofp"
      },
      "source": [
        "### 30.1 List of Allergies\n",
        "\n",
        "In this GitHub repository, there is a file called `allergies.json` that contains a list of patient allergies.  You will need to download this [file from here](https://raw.githubusercontent.com/paulboal/hds5210-2023/main/week06/allergies.json) and then upload it into Google Colab to run these examples. It is taken from sample data provided by the EHR vendor, Epic, here: https://open.epic.com/Clinical/Allergy\n",
        "\n",
        "Take some time to look at the structure of the file.  You can open it directly in Jupyter by clicking the _Home_ icon, then the _from_instructor_ folder, and then the _data_ folder.\n",
        "\n",
        "Within the file, you'll see that it is a dictionary with many items in it.  One of those items is called `entry` and that item is a list of things.  You can tell that because the item name is immediately followed by an opening square bracket, signifying the start of a list.  It's line 11 of the file: `  \"entry\": [`\n",
        "\n",
        "Write a function named `allergy_count(json_file)` that takes as one parameter the name of the JSON file and returns an integer number of entries in that file.  Your function should open the file, read the json into a Python object, and return how many items there are in the list of `entry`s."
      ]
    },
    {
      "cell_type": "code",
      "execution_count": 189,
      "metadata": {
        "id": "4BidiJJMYofq"
      },
      "outputs": [],
      "source": [
        "import json\n",
        "ALLERGIES_FILE=\"allergies.json\""
      ]
    },
    {
      "cell_type": "code",
      "source": [
        "\"\"\"import json\n",
        "from pathlib import Path\n",
        "HOME = str(Path.home())\"\"\""
      ],
      "metadata": {
        "id": "Hq6G-paaY_tB",
        "outputId": "f1cc01df-74f1-4015-d723-6dc7027888cd",
        "colab": {
          "base_uri": "https://localhost:8080/",
          "height": 35
        }
      },
      "execution_count": 190,
      "outputs": [
        {
          "output_type": "execute_result",
          "data": {
            "text/plain": [
              "'import json\\nfrom pathlib import Path\\nHOME = str(Path.home())'"
            ],
            "application/vnd.google.colaboratory.intrinsic+json": {
              "type": "string"
            }
          },
          "metadata": {},
          "execution_count": 190
        }
      ]
    },
    {
      "cell_type": "markdown",
      "source": [
        "This allergies.json file contains allergy count data, this will be provide how many allergies factors contain in this file."
      ],
      "metadata": {
        "id": "iI7URHJWZS55"
      }
    },
    {
      "cell_type": "code",
      "execution_count": 191,
      "metadata": {
        "nbgrader": {
          "grade": false,
          "grade_id": "q1-answer",
          "locked": false,
          "schema_version": 1,
          "solution": true
        },
        "id": "jOt8EUNsYofs",
        "outputId": "0b1a601b-ca69-4032-94de-58f1b2f2e31d",
        "colab": {
          "base_uri": "https://localhost:8080/",
          "height": 53
        }
      },
      "outputs": [
        {
          "output_type": "execute_result",
          "data": {
            "text/plain": [
              "\"def allergy_count(json_file):\\n    with open(json_file) as allergies :\\n        data = json.load(allergies)\\n        return len(data['entry'])\""
            ],
            "application/vnd.google.colaboratory.intrinsic+json": {
              "type": "string"
            }
          },
          "metadata": {},
          "execution_count": 191
        }
      ],
      "source": [
        "# Put your solution here\n",
        "\"\"\"def allergy_count(json_file):\n",
        "    with open(json_file) as allergies :\n",
        "        data = json.load(allergies)\n",
        "        return len(data['entry'])\"\"\""
      ]
    },
    {
      "cell_type": "markdown",
      "source": [
        "The above code provides total number of allergies file in alleries.json file."
      ],
      "metadata": {
        "id": "77I8QT2zZYFI"
      }
    },
    {
      "cell_type": "code",
      "execution_count": 192,
      "metadata": {
        "id": "_s2EdydbYoft",
        "outputId": "38dca4cf-e2af-48ca-bd9d-a5d51a92d67c",
        "colab": {
          "base_uri": "https://localhost:8080/"
        }
      },
      "outputs": [
        {
          "output_type": "execute_result",
          "data": {
            "text/plain": [
              "4"
            ]
          },
          "metadata": {},
          "execution_count": 192
        }
      ],
      "source": [
        "allergy_count(ALLERGIES_FILE)"
      ]
    },
    {
      "cell_type": "markdown",
      "source": [
        "This file have 4 numbers of allergies in 'entry'.\n",
        "\n"
      ],
      "metadata": {
        "id": "DVL-Q0JVZeaT"
      }
    },
    {
      "cell_type": "code",
      "execution_count": 193,
      "metadata": {
        "nbgrader": {
          "grade": true,
          "grade_id": "q1-tests",
          "locked": true,
          "points": 5,
          "schema_version": 1,
          "solution": false
        },
        "id": "hEyK2_iBYoft"
      },
      "outputs": [],
      "source": [
        "assert type(allergy_count(ALLERGIES_FILE)) == int\n",
        "assert allergy_count(ALLERGIES_FILE) == 4"
      ]
    },
    {
      "cell_type": "markdown",
      "metadata": {
        "id": "tWuOivQ1Yofu"
      },
      "source": [
        "### 30.2 Number of Patients\n",
        "\n",
        "If you dig a little bit deaper into this list of allergies, you'll see that each result has a patient associated with it.  Create a funcation called `patient_count(json_file)` that will count how many unique patients we have in this JSON structure.  "
      ]
    },
    {
      "cell_type": "code",
      "execution_count": 194,
      "metadata": {
        "id": "iTOUUZS6Yofu",
        "outputId": "3e324699-1dbd-4b93-8c38-e832d2e6c528",
        "colab": {
          "base_uri": "https://localhost:8080/",
          "height": 70
        }
      },
      "outputs": [
        {
          "output_type": "execute_result",
          "data": {
            "text/plain": [
              "\"def patient_count(ALLERGIES_FILE):\\n    with open (ALLERGIES_FILE) as af:\\n\\n        data = json.load(af)\\n\\n        all_patients = [ ]\\n        entry_array = data['entry']\\n\\n        for entry in entry_array:\\n            all_patients.append(entry['resource'] ['patient'] ['display'])\\n\\n        return len(set(all_patients))\""
            ],
            "application/vnd.google.colaboratory.intrinsic+json": {
              "type": "string"
            }
          },
          "metadata": {},
          "execution_count": 194
        }
      ],
      "source": [
        "# Put your solution here\n",
        "\"\"\"def patient_count(ALLERGIES_FILE):\n",
        "    with open (ALLERGIES_FILE) as af:\n",
        "\n",
        "        data = json.load(af)\n",
        "\n",
        "        all_patients = [ ]\n",
        "        entry_array = data['entry']\n",
        "\n",
        "        for entry in entry_array:\n",
        "            all_patients.append(entry['resource'] ['patient'] ['display'])\n",
        "\n",
        "        return len(set(all_patients))\"\"\""
      ]
    },
    {
      "cell_type": "markdown",
      "source": [
        "This code provide how many patients are present in the alleries.json file, using of 'entry' have resource, patient and dispaly. (We are using the function patient_count to determine how many unique patients are included in this file.)"
      ],
      "metadata": {
        "id": "wlBN9mHTZpcM"
      }
    },
    {
      "cell_type": "code",
      "execution_count": 195,
      "metadata": {
        "id": "HBSoYny8Yofu",
        "outputId": "52b7fef3-9ce9-48da-8928-19cd0257b6a1",
        "colab": {
          "base_uri": "https://localhost:8080/"
        }
      },
      "outputs": [
        {
          "output_type": "execute_result",
          "data": {
            "text/plain": [
              "2"
            ]
          },
          "metadata": {},
          "execution_count": 195
        }
      ],
      "source": [
        "patient_count(ALLERGIES_FILE)"
      ]
    },
    {
      "cell_type": "markdown",
      "source": [
        "There are 2 numbers of patients in this json file."
      ],
      "metadata": {
        "id": "L37YDMwpZzv6"
      }
    },
    {
      "cell_type": "code",
      "execution_count": 196,
      "metadata": {
        "id": "HJdJDYL7Yofv"
      },
      "outputs": [],
      "source": [
        "assert type(patient_count(ALLERGIES_FILE)) == int\n",
        "assert patient_count(ALLERGIES_FILE) == 2"
      ]
    },
    {
      "cell_type": "markdown",
      "metadata": {
        "id": "vScBPufrYofv"
      },
      "source": [
        "### 30.3 How Many Allergies per Patient\n",
        "\n",
        "Although each entry is a separate allergy, several of them are for the same patient.  Write a function called `allergy_per_patient(json_file)` that counts up how many allergies each patient has.\n"
      ]
    },
    {
      "cell_type": "code",
      "execution_count": 197,
      "metadata": {
        "id": "bCSQ3VtuYofv",
        "outputId": "1526cbaf-0e2e-48b8-f3ba-aa7b92f178e0",
        "colab": {
          "base_uri": "https://localhost:8080/",
          "height": 105
        }
      },
      "outputs": [
        {
          "output_type": "execute_result",
          "data": {
            "text/plain": [
              "\"def allergy_per_patient(ALLERGIES_FILE):\\n    with open(ALLERGIES_FILE) as json_file:\\n        data = json.load(json_file)\\n\\n    all_patients = [ ]\\n\\n    entry_array = data['entry']\\n\\n    for entry in entry_array:\\n        all_patients.append(entry['resource'] ['patient'] ['display'])\\n\\n    allergy_per_patient_dict = dict()\\n\\n    for patient in all_patients:\\n        if patient not in allergy_per_patient_dict:\\n            allergy_per_patient_dict[patient] = 1\\n\\n        else:\\n            allergy_per_patient_dict[patient] += 1\\n\\n    return allergy_per_patient_dict\""
            ],
            "application/vnd.google.colaboratory.intrinsic+json": {
              "type": "string"
            }
          },
          "metadata": {},
          "execution_count": 197
        }
      ],
      "source": [
        "# Put your solution here\n",
        "\"\"\"def allergy_per_patient(ALLERGIES_FILE):\n",
        "    with open(ALLERGIES_FILE) as json_file:\n",
        "        data = json.load(json_file)\n",
        "\n",
        "    all_patients = [ ]\n",
        "\n",
        "    entry_array = data['entry']\n",
        "\n",
        "    for entry in entry_array:\n",
        "        all_patients.append(entry['resource'] ['patient'] ['display'])\n",
        "\n",
        "    allergy_per_patient_dict = dict()\n",
        "\n",
        "    for patient in all_patients:\n",
        "        if patient not in allergy_per_patient_dict:\n",
        "            allergy_per_patient_dict[patient] = 1\n",
        "\n",
        "        else:\n",
        "            allergy_per_patient_dict[patient] += 1\n",
        "\n",
        "    return allergy_per_patient_dict\"\"\""
      ]
    },
    {
      "cell_type": "markdown",
      "source": [
        "This function provides the total number of allergies per patient as well as the number of patients who are effected by allergies."
      ],
      "metadata": {
        "id": "vH4xi10BZ_RB"
      }
    },
    {
      "cell_type": "code",
      "execution_count": 198,
      "metadata": {
        "id": "GVpUI4yEYofw",
        "outputId": "fee6406c-c997-4066-cc6f-d119528d0097",
        "colab": {
          "base_uri": "https://localhost:8080/"
        }
      },
      "outputs": [
        {
          "output_type": "execute_result",
          "data": {
            "text/plain": [
              "{'Jason Argonaut': 3, 'Paul Boal': 1}"
            ]
          },
          "metadata": {},
          "execution_count": 198
        }
      ],
      "source": [
        "allergy_per_patient(ALLERGIES_FILE)"
      ]
    },
    {
      "cell_type": "code",
      "execution_count": 199,
      "metadata": {
        "id": "QJQqUF3rYofw"
      },
      "outputs": [],
      "source": [
        "assert type(allergy_per_patient(ALLERGIES_FILE)) == dict\n",
        "assert allergy_per_patient(ALLERGIES_FILE) == {'Paul Boal': 1, 'Jason Argonaut': 3}"
      ]
    },
    {
      "cell_type": "markdown",
      "metadata": {
        "nbgrader": {
          "grade": false,
          "grade_id": "q2-question",
          "locked": true,
          "schema_version": 1,
          "solution": false
        },
        "id": "9wKdne2IYofw"
      },
      "source": [
        "### 30.4 Patient Allergies and Reaction\n",
        "\n",
        "You'll see in the file that each of the items in the `entry` list have several other attributes including a patient name, substance text representation, and a reaction manifestation.  Create a function named `allergy_list(json_file)` that will create an output list that has patient name, allergy, and reaction for each `entry`.  The actual result you should get will be:\n",
        "\n",
        "```python\n",
        "[['Jason Argonaut', 'PENICILLIN G', 'Hives'],\n",
        " ['Paul Boal', 'PENICILLIN G', 'Bruising'],\n",
        " ['Jason Argonaut', 'SHELLFISH-DERIVED PRODUCTS', 'Itching'],\n",
        " ['Jason Argonaut', 'STRAWBERRY', 'Anaphylaxis']]\n",
        "```\n",
        "\n",
        "You'll notice that the reaction and the manifestation of that action are lists.  You only need to capture the first reaction and the first manifestation of the action.  That is, if there is a list of things, just output the first one."
      ]
    },
    {
      "cell_type": "code",
      "execution_count": 200,
      "metadata": {
        "nbgrader": {
          "grade": false,
          "grade_id": "q2-answer",
          "locked": false,
          "schema_version": 1,
          "solution": true
        },
        "id": "prJCAqToYofw",
        "outputId": "04697491-31ab-4671-9a0e-604681c9f405",
        "colab": {
          "base_uri": "https://localhost:8080/",
          "height": 105
        }
      },
      "outputs": [
        {
          "output_type": "execute_result",
          "data": {
            "text/plain": [
              "\"def allergy_list(ALLERGIED_FILE):\\n    with open (ALLERGIES_FILE)as json_file:\\n        data = json.load(json_file)\\n\\n        all_patients_data = [ ]\\n        entry_array = data['entry']\\n    for entry in entry_array:\\n        patient_data = [ ]\\n        entry_resourse = entry['resource']\\n        patient_data.append(entry_resourse['patient'] ['display'])\\n        patient_data.append(entry_resourse['substance'] ['text'])\\n        patient_data.append(entry_resourse['reaction'][0]['manifestation'][0]['text'])\\n        all_patients_data.append(patient_data)\\n    return all_patients_data\""
            ],
            "application/vnd.google.colaboratory.intrinsic+json": {
              "type": "string"
            }
          },
          "metadata": {},
          "execution_count": 200
        }
      ],
      "source": [
        "# Put your solution here\n",
        "\"\"\"def allergy_list(ALLERGIED_FILE):\n",
        "    with open (ALLERGIES_FILE)as json_file:\n",
        "        data = json.load(json_file)\n",
        "\n",
        "        all_patients_data = [ ]\n",
        "        entry_array = data['entry']\n",
        "    for entry in entry_array:\n",
        "        patient_data = [ ]\n",
        "        entry_resourse = entry['resource']\n",
        "        patient_data.append(entry_resourse['patient'] ['display'])\n",
        "        patient_data.append(entry_resourse['substance'] ['text'])\n",
        "        patient_data.append(entry_resourse['reaction'][0]['manifestation'][0]['text'])\n",
        "        all_patients_data.append(patient_data)\n",
        "    return all_patients_data\"\"\""
      ]
    },
    {
      "cell_type": "markdown",
      "source": [
        "This code will be provides total patient data including information and extractions names in json file. Allergies and reactions are included in entry_resource_substance aand display."
      ],
      "metadata": {
        "id": "d5GU3C8zaQHF"
      }
    },
    {
      "cell_type": "code",
      "execution_count": 201,
      "metadata": {
        "id": "8wsJ6RzPYofw",
        "outputId": "b53c9081-dae5-44b3-fe49-0c6a678b367b",
        "colab": {
          "base_uri": "https://localhost:8080/"
        }
      },
      "outputs": [
        {
          "output_type": "execute_result",
          "data": {
            "text/plain": [
              "[['Jason Argonaut', 'PENICILLIN G', 'Hives'],\n",
              " ['Jason Argonaut', 'SHELLFISH-DERIVED PRODUCTS', 'Itching'],\n",
              " ['Jason Argonaut', 'STRAWBERRY', 'Anaphylaxis'],\n",
              " ['Paul Boal', 'PENICILLIN G', 'Bruising']]"
            ]
          },
          "metadata": {},
          "execution_count": 201
        }
      ],
      "source": [
        "allergy_list(ALLERGIES_FILE)"
      ]
    },
    {
      "cell_type": "code",
      "execution_count": 202,
      "metadata": {
        "nbgrader": {
          "grade": true,
          "grade_id": "q2-tests",
          "locked": true,
          "points": 10,
          "schema_version": 1,
          "solution": false
        },
        "id": "5wegfpwBYofx"
      },
      "outputs": [],
      "source": [
        "assert allergy_list(ALLERGIES_FILE) == [['Jason Argonaut', 'PENICILLIN G', 'Hives'],\n",
        " ['Jason Argonaut', 'SHELLFISH-DERIVED PRODUCTS', 'Itching'],\n",
        " ['Jason Argonaut', 'STRAWBERRY', 'Anaphylaxis'],\n",
        " ['Paul Boal', 'PENICILLIN G', 'Bruising']]\n"
      ]
    },
    {
      "cell_type": "markdown",
      "metadata": {
        "nbgrader": {
          "grade": false,
          "grade_id": "q3-question",
          "locked": true,
          "schema_version": 1,
          "solution": false
        },
        "id": "hLDaNpRqYofx"
      },
      "source": [
        "### 30.5 Allergy Reaction\n",
        "\n",
        "Write a function called `allergy_reaction(json_file,patient,substance)` that takes three parameter and returns the reaction that will happen if the patient takes the specified substance.  You can solve this, in part, by calling your `allergy_list` function inside your new `allergy_reaction` function.\n",
        "\n",
        "If the substance is not found in the allergy list, the function should return None."
      ]
    },
    {
      "cell_type": "code",
      "execution_count": 203,
      "metadata": {
        "nbgrader": {
          "grade": false,
          "grade_id": "q3-answer",
          "locked": false,
          "schema_version": 1,
          "solution": true
        },
        "id": "v3JI5fCgYofx",
        "outputId": "47d78f10-07eb-40f9-940e-7253ba3ea193",
        "colab": {
          "base_uri": "https://localhost:8080/",
          "height": 70
        }
      },
      "outputs": [
        {
          "output_type": "execute_result",
          "data": {
            "text/plain": [
              "'def allergy_reaction(ALLERGIES_FILE, patient, substance):\\n\\n    total_allergy_list = allergy_list(ALLERGIES_FILE)\\n\\n    for allergy in total_allergy_list:\\n        if allergy[0] == patient and allergy[1] == substance:\\n            return allergy[2]\\n    return None'"
            ],
            "application/vnd.google.colaboratory.intrinsic+json": {
              "type": "string"
            }
          },
          "metadata": {},
          "execution_count": 203
        }
      ],
      "source": [
        "# Put your solution here\n",
        "\"\"\"def allergy_reaction(ALLERGIES_FILE, patient, substance):\n",
        "\n",
        "    total_allergy_list = allergy_list(ALLERGIES_FILE)\n",
        "\n",
        "    for allergy in total_allergy_list:\n",
        "        if allergy[0] == patient and allergy[1] == substance:\n",
        "            return allergy[2]\n",
        "    return None\"\"\""
      ]
    },
    {
      "cell_type": "markdown",
      "source": [
        "By reading a JSON file containing information about allergies, this tool determines whether a specific patient is allergic to a specific drug. If the patient has an allergy to the medicine, it will result in the appropriate response. Unless the patient has a medication or chemical allergy If it isn't listed in the allergy list, none"
      ],
      "metadata": {
        "id": "Pd1vSroNac-n"
      }
    },
    {
      "cell_type": "code",
      "execution_count": 204,
      "metadata": {
        "id": "Nix-NFgZYofx",
        "outputId": "b6d97fb0-39fe-4651-e3cf-2a8c7e0489df",
        "colab": {
          "base_uri": "https://localhost:8080/",
          "height": 35
        }
      },
      "outputs": [
        {
          "output_type": "execute_result",
          "data": {
            "text/plain": [
              "'Hives'"
            ],
            "application/vnd.google.colaboratory.intrinsic+json": {
              "type": "string"
            }
          },
          "metadata": {},
          "execution_count": 204
        }
      ],
      "source": [
        "allergy_reaction(ALLERGIES_FILE, 'Jason Argonaut', 'PENICILLIN G')"
      ]
    },
    {
      "cell_type": "code",
      "execution_count": 205,
      "metadata": {
        "nbgrader": {
          "grade": true,
          "grade_id": "q3-tests",
          "locked": true,
          "points": 5,
          "schema_version": 1,
          "solution": false
        },
        "id": "65J71mBKYofx"
      },
      "outputs": [],
      "source": [
        "assert allergy_reaction(ALLERGIES_FILE, 'Jason Argonaut', 'PENICILLIN G') == 'Hives'\n",
        "assert allergy_reaction(ALLERGIES_FILE, 'Jason Argonaut', 'SHELLFISH-DERIVED PRODUCTS') == 'Itching'\n",
        "assert allergy_reaction(ALLERGIES_FILE, 'Jason Argonaut', 'STRAWBERRY') == 'Anaphylaxis'\n",
        "assert allergy_reaction(ALLERGIES_FILE, 'Jason Argonaut', 'PENICILLIN') == None\n",
        "assert allergy_reaction(ALLERGIES_FILE, 'Paul Boal', 'PENICILLIN G') == 'Bruising'"
      ]
    },
    {
      "cell_type": "markdown",
      "metadata": {
        "id": "-34IfpqZYofx"
      },
      "source": [
        "---\n",
        "\n",
        "## Check your work above\n",
        "\n",
        "If you didn't get them all correct, take a few minutes to think through those that aren't correct.\n",
        "\n",
        "\n",
        "## Submitting Your Work\n",
        "\n",
        "In order to submit your work, you'll need to save this notebook file back to GitHub.  To do that in Google Colab:\n",
        "1. File -> Save a Copy in GitHub\n",
        "2. Make sure your HDS5210 repository is selected\n",
        "3. Make sure the file name includes the week number like this: `week06/week06_assignment_2.ipynb`\n",
        "4. Add a commit message that means something\n",
        "\n",
        "**Be sure week names are lowercase and use a two digit week number!!**\n",
        "\n",
        "**Be sure you use the same file name provided by the instructor!!**\n",
        "\n"
      ]
    }
  ],
  "metadata": {
    "celltoolbar": "Create Assignment",
    "kernelspec": {
      "display_name": "Python 3",
      "language": "python",
      "name": "python3"
    },
    "language_info": {
      "codemirror_mode": {
        "name": "ipython",
        "version": 3
      },
      "file_extension": ".py",
      "mimetype": "text/x-python",
      "name": "python",
      "nbconvert_exporter": "python",
      "pygments_lexer": "ipython3",
      "version": "3.9.16"
    },
    "colab": {
      "provenance": []
    }
  },
  "nbformat": 4,
  "nbformat_minor": 0
}